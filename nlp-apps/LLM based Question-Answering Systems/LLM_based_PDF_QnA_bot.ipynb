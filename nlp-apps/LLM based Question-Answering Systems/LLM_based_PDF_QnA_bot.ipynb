{
 "cells": [
  {
   "cell_type": "markdown",
   "metadata": {
    "id": "SLddibu5m4ha"
   },
   "source": [
    "# Installing Dependencies"
   ]
  },
  {
   "cell_type": "code",
   "execution_count": null,
   "metadata": {
    "id": "QSEMtTAfJjnY"
   },
   "outputs": [],
   "source": [
    "!pip -q install langchain openai tiktoken chromadb pypdf sentence_transformers InstructorEmbedding faiss-cpu"
   ]
  },
  {
   "cell_type": "markdown",
   "metadata": {
    "id": "JwigpdA0m-K1"
   },
   "source": [
    "# Importing Modules and performing initial setup"
   ]
  },
  {
   "cell_type": "code",
   "execution_count": null,
   "metadata": {
    "id": "YUFFgZ9bJItV"
   },
   "outputs": [],
   "source": [
    "from langchain.llms import OpenAI\n",
    "from langchain.vectorstores import Chroma\n",
    "from langchain.embeddings import OpenAIEmbeddings\n",
    "from langchain.text_splitter import RecursiveCharacterTextSplitter, CharacterTextSplitter\n",
    "from langchain.document_loaders import PyPDFLoader, OnlinePDFLoader, UnstructuredPDFLoader, DirectoryLoader\n",
    "from langchain.chains import RetrievalQA\n",
    "import os, sys"
   ]
  },
  {
   "cell_type": "code",
   "execution_count": null,
   "metadata": {
    "id": "JjbxQpOEKWwZ"
   },
   "outputs": [],
   "source": [
    "os.environ['OPENAI_API_KEY'] = \"ENTER_OPENAI_API_KEY\""
   ]
  },
  {
   "cell_type": "code",
   "execution_count": null,
   "metadata": {
    "colab": {
     "base_uri": "https://localhost:8080/"
    },
    "id": "MXNNeS1QKnYp",
    "outputId": "c69a169c-f5d6-432e-f64b-d9411fd2cf69"
   },
   "outputs": [
    {
     "name": "stdout",
     "output_type": "stream",
     "text": [
      "Mounted at /content/gdrive\n"
     ]
    }
   ],
   "source": [
    "from google.colab import drive\n",
    "drive.mount('/content/gdrive', force_remount=True)\n",
    "root_dir = '/content/gdrive/MyDrive/'"
   ]
  },
  {
   "cell_type": "markdown",
   "metadata": {
    "id": "G8llccN7nKTn"
   },
   "source": [
    "# Loading Source Data and storing its Vectored Representation locally"
   ]
  },
  {
   "cell_type": "markdown",
   "metadata": {
    "id": "U1CBbXyJp6QO"
   },
   "source": [
    "## Loading the Source Documents for the Knowledge Base"
   ]
  },
  {
   "cell_type": "markdown",
   "metadata": {
    "id": "n-SLF2kXlPp-"
   },
   "source": [
    "`pdfFilePath`: Path of the source directory containing *.pdf, *.txt, etc."
   ]
  },
  {
   "cell_type": "code",
   "execution_count": null,
   "metadata": {
    "id": "v-rPi2ZqLpag"
   },
   "outputs": [],
   "source": [
    "pdfFilePath = \"PATH_TO_THE_PDF_FILE\""
   ]
  },
  {
   "cell_type": "markdown",
   "metadata": {
    "id": "ejYlE3PjlbDX"
   },
   "source": [
    "Reading all the pdf files present in PATH `pdfFilePath` and using `load` method to extract \"text\" & \"metadata\" of pages"
   ]
  },
  {
   "cell_type": "code",
   "execution_count": null,
   "metadata": {
    "colab": {
     "base_uri": "https://localhost:8080/"
    },
    "id": "uVR5qsrTRh1t",
    "outputId": "d0d08ae0-fead-4647-a07a-c89a87c15ef9"
   },
   "outputs": [
    {
     "name": "stdout",
     "output_type": "stream",
     "text": [
      "Total number pages extracted from the documents: 41 \n",
      "\n",
      "Shown below is a document SNIPPET for reference: \n",
      " page_content=' \\n \\n \\nGEM PRECARE  \\nUSER MANUAL  \\n  ' metadata={'source': '/content/gdrive/MyDrive/Colab Notebooks/Work/Gembo/Milestone Project-PDF_Chatbot/data/pdfFiles/GEM_PRECARE_User_Manual_v2_54.pdf', 'page': 0}\n"
     ]
    }
   ],
   "source": [
    "DirLoader = DirectoryLoader(path=pdfFilePath, glob=\"*.pdf\", loader_cls=PyPDFLoader)\n",
    "documents = DirLoader.load()\n",
    "print(f\"Total number pages extracted from the documents: {len(documents)} \\n\")\n",
    "print(f\"Shown below is a document SNIPPET for reference: \\n {documents[0]}\")"
   ]
  },
  {
   "cell_type": "markdown",
   "metadata": {
    "id": "S1HsIpmKqJsi"
   },
   "source": [
    "## Splitting source data into smaller chunks"
   ]
  },
  {
   "cell_type": "markdown",
   "metadata": {
    "id": "geLHgtMqoVpG"
   },
   "source": [
    "Splitting extracted data into smaller chunks of documents (page_content & Page's metadata) because all LLMs models can process data upto a certain [token](https://help.openai.com/en/articles/4936856-what-are-tokens-and-how-to-count-them) limit at once. "
   ]
  },
  {
   "cell_type": "code",
   "execution_count": null,
   "metadata": {
    "colab": {
     "base_uri": "https://localhost:8080/"
    },
    "id": "8ogKzy5boJvR",
    "outputId": "f861c21b-bf4a-4392-cb85-ff42ac20c75d"
   },
   "outputs": [
    {
     "name": "stdout",
     "output_type": "stream",
     "text": [
      "Number of doc_chunks: 61\n",
      "Sample Chunk 0: \n",
      "``````````````` \n",
      " :page_content='GEM PRECARE  \\nUSER MANUAL' metadata={'source': '/content/gdrive/MyDrive/Colab Notebooks/Work/Gembo/Milestone Project-PDF_Chatbot/data/pdfFiles/GEM_PRECARE_User_Manual_v2_54.pdf', 'page': 0}\n",
      "\n",
      "-------------------------------------------------\n",
      "\n",
      "Sample Chunk 1: \n",
      "``````````````` \n",
      " :page_content='GEM PRECARE User Manual    \\n \\n \\n 2 \\n \\nGEM PRECARE User Manual  \\nVersion 2.5  \\nMarch 2021  \\n© Copyright GEM 2021  \\nThis software and documentation contain proprietary information of GEM and are provided under a \\nlicense agreement containing restrictions on use and disclosure  and are also protected by copyright law. \\nReverse engineering of the software is prohibited. No part of this document may be reproduced or \\ntransmitted in any form, by any means (electronic, photocopying, recording or otherwise) without prior \\nconsent of GEM . This Software may be protected by U.S. and/or international Patents and other Patents \\nPending.  \\nUse, duplication, or disclosure of the Software by the U.S. Government is subject to the restrictions set \\nforth in the applicable software license agreement an d as provided in DFARS 227.7202 -1(a) and \\n227.7702 -3(a) (1995), DFARS 252.227 -7013©(1)(ii) (OCT 1988), FAR 12.212(a) (1995), FAR 52.227 -19, or \\nFAR 52.227 -14 (ALT III), as applicable.' metadata={'source': '/content/gdrive/MyDrive/Colab Notebooks/Work/Gembo/Milestone Project-PDF_Chatbot/data/pdfFiles/GEM_PRECARE_User_Manual_v2_54.pdf', 'page': 1}\n"
     ]
    }
   ],
   "source": [
    "# Splitting data into smaller chunks so that only the required chunks are sent to the LLM as context\n",
    "# text_splitter = CharacterTextSplitter(chunk_size=1000, chunk_overlap=200)\n",
    "doc_splitter = RecursiveCharacterTextSplitter(chunk_size=1000, chunk_overlap=200)\n",
    "doc_chunks = doc_splitter.split_documents(documents)\n",
    "print(f\"Number of doc_chunks: {len(doc_chunks)}\")\n",
    "print(f\"Sample Chunk 0: \\n``````````````` \\n :{doc_chunks[0]}\")\n",
    "print(f\"\\n-------------------------------------------------\\n\")\n",
    "print(f\"Sample Chunk 1: \\n``````````````` \\n :{doc_chunks[1]}\")"
   ]
  },
  {
   "cell_type": "markdown",
   "metadata": {
    "id": "QTtof_1GowIy"
   },
   "source": [
    "**Alternatively**: Only the extracted text can be used for chunking"
   ]
  },
  {
   "cell_type": "code",
   "execution_count": null,
   "metadata": {
    "id": "Cqw-rdBomUGi"
   },
   "outputs": [],
   "source": [
    "# Extracting raw text from the documents\n",
    "raw_text = \"\"\n",
    "for doc in documents:\n",
    "  text = doc.page_content\n",
    "  if text:\n",
    "    raw_text += text"
   ]
  },
  {
   "cell_type": "code",
   "execution_count": null,
   "metadata": {
    "colab": {
     "base_uri": "https://localhost:8080/"
    },
    "id": "rCroKN55z81g",
    "outputId": "08a269f3-71c2-4148-f206-a303c7c6c7d0"
   },
   "outputs": [
    {
     "name": "stdout",
     "output_type": "stream",
     "text": [
      "Number of text_chunks: 49\n",
      "Sample Chunk 0: \n",
      "``````````````` \n",
      " :GEM PRECARE  \n",
      "USER MANUAL  \n",
      "  GEM PRECARE User Manual    \n",
      " \n",
      " \n",
      " 2 \n",
      " \n",
      "GEM PRECARE User Manual  \n",
      "Version 2.5  \n",
      "March 2021  \n",
      "© Copyright GEM 2021  \n",
      "This software and documentation contain proprietary information of GEM and are provided under a \n",
      "license agreement containing restrictions on use and disclosure  and are also protected by copyright law. \n",
      "Reverse engineering of the software is prohibited. No part of this document may be reproduced or \n",
      "transmitted in any form, by any means (electronic, photocopying, recording or otherwise) without prior \n",
      "consent of GEM . This Software may be protected by U.S. and/or international Patents and other Patents \n",
      "Pending.  \n",
      "Use, duplication, or disclosure of the Software by the U.S. Government is subject to the restrictions set \n",
      "forth in the applicable software license agreement an d as provided in DFARS 227.7202 -1(a) and \n",
      "227.7702 -3(a) (1995), DFARS 252.227 -7013©(1)(ii) (OCT 1988), FAR 12.212(a) (1995), FAR 52.227 -19, or\n",
      "\n",
      "-------------------------------------------------\n",
      "\n",
      "Sample Chunk 1: \n",
      "``````````````` \n",
      " :227.7702 -3(a) (1995), DFARS 252.227 -7013©(1)(ii) (OCT 1988), FAR 12.212(a) (1995), FAR 52.227 -19, or \n",
      "FAR 52.227 -14 (ALT III), as applicable.  \n",
      "The information in this product or documentation is subject to change with out notice. If you find any \n",
      "problems in this product or documentation, please report them to us in writing.  \n",
      "GEM and PRECARE are trademarks or registered trademarks of GEM in the United States and in \n",
      "jurisdictions throughout the world. All other company and  product names may be trade names or \n",
      "trademarks of their respective owners.  \n",
      "Portions of this software and/or documentation are subject to copyright held by third parties, including \n",
      "without limitation: Copyright ABC. All rights reserved. Copyright XYZ. All rights reserved.  \n",
      "This product includes software developed by the Apache Software Foundation \n",
      "(http://www.apache.org/), and/or other software which is licensed under various versions of the\n"
     ]
    }
   ],
   "source": [
    "text_splitter = RecursiveCharacterTextSplitter(chunk_size=1000, chunk_overlap=200)\n",
    "text_chunks = text_splitter.split_text(raw_text)\n",
    "\n",
    "print(f\"Number of text_chunks: {len(text_chunks)}\")\n",
    "print(f\"Sample Chunk 0: \\n``````````````` \\n :{text_chunks[0]}\")\n",
    "print(f\"\\n-------------------------------------------------\\n\")\n",
    "print(f\"Sample Chunk 1: \\n``````````````` \\n :{text_chunks[1]}\")"
   ]
  },
  {
   "cell_type": "markdown",
   "metadata": {
    "id": "ntd9CNp2qdrN"
   },
   "source": [
    "## Generating [embeddings](https://platform.openai.com/docs/guides/embeddings/what-are-embeddings) or encoding the Source Data  & storing the result in a `VectorStoreDB` locally"
   ]
  },
  {
   "cell_type": "code",
   "execution_count": null,
   "metadata": {
    "id": "HF6F4MFBrDOk"
   },
   "outputs": [],
   "source": [
    "# Instanciating an object of OpenAI Embeddings (check refrences for pricing)\n",
    "embeddings = OpenAIEmbeddings()"
   ]
  },
  {
   "cell_type": "code",
   "execution_count": null,
   "metadata": {
    "colab": {
     "base_uri": "https://localhost:8080/"
    },
    "id": "ip5VBAKarDjj",
    "outputId": "d03a788a-f14d-4726-b50f-1cf58bd87dbf"
   },
   "outputs": [
    {
     "name": "stderr",
     "output_type": "stream",
     "text": [
      "WARNING:chromadb:Using embedded DuckDB with persistence: data will be stored in: /content/db\n"
     ]
    }
   ],
   "source": [
    "# Embedd and store the texts\n",
    "# Supplying a persist_directory will store the embeddings on disk\n",
    "persist_directory = '/content/db'\n",
    "\n",
    "vectordb = Chroma.from_documents(documents=doc_chunks, \n",
    "                                 embedding=embeddings,\n",
    "                                 persist_directory=persist_directory)\n",
    "vectordb.persist()"
   ]
  },
  {
   "cell_type": "markdown",
   "metadata": {
    "id": "baXFwn_Tsp8b"
   },
   "source": [
    "![image.png](data:image/png;base64,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)"
   ]
  },
  {
   "cell_type": "markdown",
   "metadata": {
    "id": "0uASvHzp_cGh"
   },
   "source": [
    "## Loading the Persisted `VectorStoreDB` from disk to memory"
   ]
  },
  {
   "cell_type": "code",
   "execution_count": null,
   "metadata": {
    "colab": {
     "base_uri": "https://localhost:8080/"
    },
    "id": "KuOeI7p_lyxE",
    "outputId": "e8e4afca-2960-454e-c244-bab8a5a7ddd5"
   },
   "outputs": [
    {
     "name": "stderr",
     "output_type": "stream",
     "text": [
      "WARNING:chromadb:Using embedded DuckDB with persistence: data will be stored in: /content/db\n"
     ]
    }
   ],
   "source": [
    "persist_directory = '/content/db'\n",
    "\n",
    "embeddings = OpenAIEmbeddings()\n",
    "vectordb = Chroma(persist_directory=persist_directory, \n",
    "                  embedding_function=embeddings)"
   ]
  },
  {
   "cell_type": "markdown",
   "metadata": {
    "id": "NOmoY51VAr8T"
   },
   "source": [
    "## Creating `retriever` Obj to extract relevant chunks from the `VectorStoreDB` based on query"
   ]
  },
  {
   "cell_type": "code",
   "execution_count": null,
   "metadata": {
    "id": "3THPOD8Clytq"
   },
   "outputs": [],
   "source": [
    "retriever = vectordb.as_retriever()"
   ]
  },
  {
   "cell_type": "code",
   "execution_count": null,
   "metadata": {
    "colab": {
     "base_uri": "https://localhost:8080/"
    },
    "id": "M-fV1u5wlyrM",
    "outputId": "28f381f7-9e0b-4c0f-c7cf-c34bad2408a2"
   },
   "outputs": [
    {
     "data": {
      "text/plain": [
       "[Document(page_content='Figure 11: OEE Performance detail table  \\nOEE Quality key indicators  \\nAn example of these key indicators is shown in Figure 12. These key indicators  shows the total number \\nof units produced, the total number of units that failed and the total number of units that passed, for \\nthe specified time period.  \\n \\n \\nFigure 12: OEE Quality detail table  \\n3.1.2.2  Dynamic Analytics  \\n \\nAs part of the onboarding of each installat ion/ factory, the platform ingest a hierarchical model of it. \\nWith that the GEM PRECARE platform processing engines, automatically correlate each data elements to \\nits corresponding hierarchical level.', metadata={'source': '/content/gdrive/MyDrive/Colab Notebooks/Work/Gembo/Milestone Project-PDF_Chatbot/data/pdfFiles/GEM_PRECARE_User_Manual_v2_54.pdf', 'page': 14}),\n",
       " Document(page_content='GEM PRECARE User Manual    \\n \\n \\n 4 \\n \\n \\nAbbreviations  \\nAcronym  Meaning  \\nOEE Overall Equipment Effectiveness  \\nOEE Utilization  Effective utilization of a machine  \\nOEE Efficiency  Effective efficiency of a machine  \\nOEE Quality  Effective yield of a machine  \\nMTBF  Mean -Time -Between -Failures  \\nMTBA  Mean -Time -Between -Assists  \\nGUI Graphical User Interface  \\nCPS Cyber Physical System  \\nMES  Manufacturing Execution System  \\nERP Enterprise Resource Planning', metadata={'source': '/content/gdrive/MyDrive/Colab Notebooks/Work/Gembo/Milestone Project-PDF_Chatbot/data/pdfFiles/GEM_PRECARE_User_Manual_v2_54.pdf', 'page': 3}),\n",
       " Document(page_content='GEM PRECARE User Manual    \\n \\n \\n 14 \\n \\n \\nFigure 9: Factory level analytics dashboard  \\nIn addition to the different OEE gaugeskey indicators containing details for each gauge can be displayed.  \\nOEE Availability key indicators  \\nAn example of this table is  shown in Figure 10. In this table DT stands for Down Time. The key indicators  \\nshow all planned and unplanned DT for the selected time period, in total number of hours and as a \\npercentage of the total number of hours in the specified time period, for the e ntire factory.', metadata={'source': '/content/gdrive/MyDrive/Colab Notebooks/Work/Gembo/Milestone Project-PDF_Chatbot/data/pdfFiles/GEM_PRECARE_User_Manual_v2_54.pdf', 'page': 13}),\n",
       " Document(page_content='GEM PRECARE User Manual    \\n \\n \\n 38 \\n \\nOperatingTime = PlannedProductionTime - Sum Duration of Status even ts of machines \\n(Failure+Assist+Other)  \\nOEE Performance  \\nOEE Performance = sum (Total output in DeltaT)/sum (Theoretical output in DeltaT of machines)  \\nDeltaT = time period  \\nTotal output in DeltaT = output of machines  in DeltaT.  \\nTheoretical output in DeltaT =  theoretical output of machines in DeltaT.  \\nOEE Quality  \\nOEE Quality = (Sum good units in DeltaT of machines/ Sum total units in DeltaT of machines)*100  \\nOEE Overall  \\nOEE Overall = OEE Availability x OEE Performance x OEE Quality  \\n \\nAppendix B: Supported Machines  \\nThe following table lists the currently supported machines. This list is constantly growing. Contact your \\nGEM customer representative for the latest list.  \\nApplication  Type  Make  Model  Sub-Model  Supported  \\nSemi  Testers  Advantest  Verigy  93000  Yes \\nSemi  Testers  Teradyne  Catalyst  ETS88  Yes', metadata={'source': '/content/gdrive/MyDrive/Colab Notebooks/Work/Gembo/Milestone Project-PDF_Chatbot/data/pdfFiles/GEM_PRECARE_User_Manual_v2_54.pdf', 'page': 37})]"
      ]
     },
     "execution_count": 25,
     "metadata": {},
     "output_type": "execute_result"
    }
   ],
   "source": [
    "query = \"What does OEE Stands for?\"\n",
    "docs = retriever.get_relevant_documents(query)\n",
    "docs"
   ]
  },
  {
   "cell_type": "code",
   "execution_count": null,
   "metadata": {
    "colab": {
     "base_uri": "https://localhost:8080/"
    },
    "id": "pu9Yqx5ilyoj",
    "outputId": "205f7936-6afd-42f9-fdd5-8cf01e08a9b2"
   },
   "outputs": [
    {
     "name": "stdout",
     "output_type": "stream",
     "text": [
      "Count of relevant document chunks extracted: 4\n"
     ]
    }
   ],
   "source": [
    "print(f\"Count of relevant document chunks extracted: {len(docs)}\")"
   ]
  },
  {
   "cell_type": "code",
   "execution_count": null,
   "metadata": {
    "id": "iHPSqeoQlymD"
   },
   "outputs": [],
   "source": [
    "# Reducing the number of chunks extracted to save cost. However, this could impact the Large Language Model (LLM) performnce\n",
    "retriever = vectordb.as_retriever(search_kwargs={\"k\": 2})"
   ]
  },
  {
   "cell_type": "code",
   "execution_count": null,
   "metadata": {
    "colab": {
     "base_uri": "https://localhost:8080/",
     "height": 35
    },
    "id": "Ylov00OklyjQ",
    "outputId": "2c596c22-11c8-4743-fbab-35082d72a047"
   },
   "outputs": [
    {
     "data": {
      "application/vnd.google.colaboratory.intrinsic+json": {
       "type": "string"
      },
      "text/plain": [
       "'similarity'"
      ]
     },
     "execution_count": 27,
     "metadata": {},
     "output_type": "execute_result"
    }
   ],
   "source": [
    "# Technique used by retriever for document extraction\n",
    "retriever.search_type"
   ]
  },
  {
   "cell_type": "code",
   "execution_count": null,
   "metadata": {
    "colab": {
     "base_uri": "https://localhost:8080/"
    },
    "id": "dEdha28Tlyg0",
    "outputId": "1dae68c5-146e-4e05-b738-9aed798307cf"
   },
   "outputs": [
    {
     "data": {
      "text/plain": [
       "{'k': 2}"
      ]
     },
     "execution_count": 28,
     "metadata": {},
     "output_type": "execute_result"
    }
   ],
   "source": [
    "retriever.search_kwargs"
   ]
  },
  {
   "cell_type": "markdown",
   "metadata": {
    "id": "filCL6qQEHK-"
   },
   "source": [
    "# Setting up QA Retrieval Chain"
   ]
  },
  {
   "cell_type": "markdown",
   "metadata": {
    "id": "9KAuk0SpX50u"
   },
   "source": [
    "Instantiating the Large Language Model Object. However, this can be replaced with any opensource alternative.\n",
    "\n",
    "![image.png](data:image/png;base64,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)"
   ]
  },
  {
   "cell_type": "code",
   "execution_count": null,
   "metadata": {
    "id": "CxrtBO8IEiIr"
   },
   "outputs": [],
   "source": [
    "llm=OpenAI()"
   ]
  },
  {
   "cell_type": "code",
   "execution_count": null,
   "metadata": {
    "id": "Sqm0NOm_rC7q"
   },
   "outputs": [],
   "source": [
    "# create the chain to answer questions \n",
    "qa_chain = RetrievalQA.from_chain_type(llm=llm, \n",
    "                                  chain_type=\"stuff\", \n",
    "                                  retriever=retriever, \n",
    "                                  return_source_documents=True,\n",
    "                                  verbose=True)"
   ]
  },
  {
   "cell_type": "markdown",
   "metadata": {
    "id": "hzOf-RObbhyk"
   },
   "source": [
    "Checking default `Prompt Template` for RetrievalQA chain"
   ]
  },
  {
   "cell_type": "code",
   "execution_count": null,
   "metadata": {
    "colab": {
     "base_uri": "https://localhost:8080/"
    },
    "id": "7KnHVI-3bg7m",
    "outputId": "ac8c7ace-fe99-47b4-a1d7-91cbfca3e31e"
   },
   "outputs": [
    {
     "name": "stdout",
     "output_type": "stream",
     "text": [
      "Use the following pieces of context to answer the question at the end. If you don't know the answer, just say that you don't know, don't try to make up an answer.\n",
      "\n",
      "{context}\n",
      "\n",
      "Question: {question}\n",
      "Helpful Answer:\n"
     ]
    }
   ],
   "source": [
    "print(qa_chain.combine_documents_chain.llm_chain.prompt.template)"
   ]
  },
  {
   "cell_type": "markdown",
   "metadata": {
    "id": "RqW93MPeg9Tn"
   },
   "source": [
    "`{context}` : Top `k` ranked results by retriever\n",
    "\n",
    "`{question}` : Query or question asked by the human"
   ]
  },
  {
   "cell_type": "markdown",
   "metadata": {
    "id": "DlS-tqk9HhqW"
   },
   "source": [
    "# Generating Response from the QA Retrieval Chain"
   ]
  },
  {
   "cell_type": "code",
   "execution_count": null,
   "metadata": {
    "id": "IBIIO7z_Ff41"
   },
   "outputs": [],
   "source": [
    "## Cite sources\n",
    "def process_llm_response(llm_response):\n",
    "    print(llm_response['result'])\n",
    "    print('\\n\\nSources:')\n",
    "    for source in llm_response[\"source_documents\"]:\n",
    "        print(source.metadata['source'])"
   ]
  },
  {
   "cell_type": "code",
   "execution_count": null,
   "metadata": {
    "colab": {
     "base_uri": "https://localhost:8080/"
    },
    "id": "siwuTcVhFf1c",
    "outputId": "3cc103c7-7d39-41ca-e0f3-967a4620e690"
   },
   "outputs": [
    {
     "name": "stdout",
     "output_type": "stream",
     "text": [
      "\n",
      "\n",
      "\u001b[1m> Entering new RetrievalQA chain...\u001b[0m\n",
      "\n",
      "\u001b[1m> Finished chain.\u001b[0m\n",
      " Overall Equipment Effectiveness\n",
      "\n",
      "\n",
      "Sources:\n",
      "/content/gdrive/MyDrive/Colab Notebooks/Work/Gembo/Milestone Project-PDF_Chatbot/data/pdfFiles/GEM_PRECARE_User_Manual_v2_54.pdf\n",
      "/content/gdrive/MyDrive/Colab Notebooks/Work/Gembo/Milestone Project-PDF_Chatbot/data/pdfFiles/GEM_PRECARE_User_Manual_v2_54.pdf\n",
      "/content/gdrive/MyDrive/Colab Notebooks/Work/Gembo/Milestone Project-PDF_Chatbot/data/pdfFiles/GEM_PRECARE_User_Manual_v2_54.pdf\n",
      "/content/gdrive/MyDrive/Colab Notebooks/Work/Gembo/Milestone Project-PDF_Chatbot/data/pdfFiles/GEM_PRECARE_User_Manual_v2_54.pdf\n"
     ]
    }
   ],
   "source": [
    "# full example\n",
    "query = \"What's the full form of OEE\"\n",
    "llm_response = qa_chain(query)\n",
    "process_llm_response(llm_response)"
   ]
  },
  {
   "cell_type": "code",
   "execution_count": null,
   "metadata": {
    "colab": {
     "base_uri": "https://localhost:8080/"
    },
    "id": "jSJDVY9LFfyP",
    "outputId": "47cac2b1-dc90-4d54-b9cc-cdc70de8eb46"
   },
   "outputs": [
    {
     "name": "stdout",
     "output_type": "stream",
     "text": [
      "\n",
      "\n",
      "\u001b[1m> Entering new RetrievalQA chain...\u001b[0m\n",
      "\n",
      "\u001b[1m> Finished chain.\u001b[0m\n",
      " GEM PRECARE offers manufacturers the ability to connect to legacy and new factory floor machinery and access critical operational data in real-time, with powerful analytics and predictive maintenance features to enable significant reductions in equipment downtime.\n",
      "\n",
      "\n",
      "Sources:\n",
      "/content/gdrive/MyDrive/Colab Notebooks/Work/Gembo/Milestone Project-PDF_Chatbot/data/pdfFiles/GEM_PRECARE_User_Manual_v2_54.pdf\n",
      "/content/gdrive/MyDrive/Colab Notebooks/Work/Gembo/Milestone Project-PDF_Chatbot/data/pdfFiles/GEM_PRECARE_User_Manual_v2_54.pdf\n",
      "/content/gdrive/MyDrive/Colab Notebooks/Work/Gembo/Milestone Project-PDF_Chatbot/data/pdfFiles/GEM_PRECARE_User_Manual_v2_54.pdf\n",
      "/content/gdrive/MyDrive/Colab Notebooks/Work/Gembo/Milestone Project-PDF_Chatbot/data/pdfFiles/GEM_PRECARE_User_Manual_v2_54.pdf\n"
     ]
    }
   ],
   "source": [
    "query = \"What core idea behind GEM PRECARE?\"\n",
    "llm_response = qa_chain(query)\n",
    "process_llm_response(llm_response)"
   ]
  },
  {
   "cell_type": "code",
   "execution_count": null,
   "metadata": {
    "colab": {
     "base_uri": "https://localhost:8080/"
    },
    "id": "ZzaPfcO7XbJP",
    "outputId": "3f9795b0-f17d-475e-a8cb-b813bcfee615"
   },
   "outputs": [
    {
     "name": "stdout",
     "output_type": "stream",
     "text": [
      "\n",
      "\n",
      "\u001b[1m> Entering new RetrievalQA chain...\u001b[0m\n",
      "\n",
      "\u001b[1m> Finished chain.\u001b[0m\n"
     ]
    },
    {
     "data": {
      "text/plain": [
       "{'query': 'What core idea behind GEM PRECARE?',\n",
       " 'result': ' GEM PRECARE is a platform that offers manufacturers the ability to easily connect to legacy and new factory floor machinery and access critical operational multidimensional data in real-time. It combines powerful analytics and predictive maintenance capabilities with user-friendly dashboards. It also includes a wide variety of software agents and sensors tailored to specific types of machines, and can be used in a private, public or hybrid cloud configuration.',\n",
       " 'source_documents': [Document(page_content='GEM PRECARE  \\nUSER MANUAL', metadata={'source': '/content/gdrive/MyDrive/Colab Notebooks/Work/Gembo/Milestone Project-PDF_Chatbot/data/pdfFiles/GEM_PRECARE_User_Manual_v2_54.pdf', 'page': 0}),\n",
       "  Document(page_content='1 Overview  \\n1.1 Introduction  \\nThe GEM PRECARE platform offers manufacturers the abilit y to easily connect to legacy and new factory \\nfloor machinery and access critical operational multi -dimensional (results, statuses, augmentive) data in \\nreal-time. GEM PRECARE combines powerful, best -in-class edge processing, analytics and predictive \\nmainte nance capabilities with versatile and user -friendly dashboards, which provide a uniform \\nrepresentation across all equipment assets.  \\nGEM PRECARE includes powerful analytics, such as Quality, Availability, Performance and Custom, as \\nwell as predictive maint enance features to enable significant reductions in equipment downtime, hence \\npositively effecting quality control, productivity and revenues. GEM PRECARE can be used in a private, \\npublic or hybrid cloud configuration.  \\nGEM PRECARE integrates a wide variety  of software agents and sensors which are tailored to suit each', metadata={'source': '/content/gdrive/MyDrive/Colab Notebooks/Work/Gembo/Milestone Project-PDF_Chatbot/data/pdfFiles/GEM_PRECARE_User_Manual_v2_54.pdf', 'page': 4}),\n",
       "  Document(page_content='public or hybrid cloud configuration.  \\nGEM PRECARE integrates a wide variety  of software agents and sensors which are tailored to suit each \\nspecific type of machine. These agents support a wide choice of different hardware platforms, including \\nPCs, mobile devices, custom hardware, CPUs, FPGAs and more for factory floor data acquis ition and \\nenhanced, complex processing at the edge, including sensor signal processing, machine learning and \\ncomplex event processing.  \\nAlthough this GEM PRECARE has been tailored for application in the manufacturing industry, and more \\nnarrowly for the elec tronics manufacturing industry, GEM PRECARE is by no means limited as such and \\ncan be tailored to be an equipment asset management solution for any industry, including but not \\nlimited to other manufacturing sectors, healthcare, retail, energy production an d distribution, etc.', metadata={'source': '/content/gdrive/MyDrive/Colab Notebooks/Work/Gembo/Milestone Project-PDF_Chatbot/data/pdfFiles/GEM_PRECARE_User_Manual_v2_54.pdf', 'page': 4}),\n",
       "  Document(page_content='GEM PRECARE User Manual    \\n \\n \\n 7 \\n \\n1.1.2 GEM PRECARE Cloud Platform  \\nThe GEM PRECARE cloud platform is responsible for the processing of all GEM agent data being \\nreceived. This processing includes, but is not limited to machine stats, big da ta analytics, complex event \\nprocessing, rule -based event processing and machine learning. In addition future capabilities may \\ninclude retrieving data from an MES, ERP or other backend system.  \\nGEM PRECARE can run in a private, public or hybrid private/publi c cloud environment, or even on a \\ndedicated server within the factory or organization.  \\nGEM PRECARE also includes a comprehensive dashboard, which formats any processed and stored data \\nfor visualization and presentation. The dashboard supports a multitude of different GUI widgets, each \\nspecializing in the optimal way in which to visualize and present data for machine health monitoring,', metadata={'source': '/content/gdrive/MyDrive/Colab Notebooks/Work/Gembo/Milestone Project-PDF_Chatbot/data/pdfFiles/GEM_PRECARE_User_Manual_v2_54.pdf', 'page': 6})]}"
      ]
     },
     "execution_count": 37,
     "metadata": {},
     "output_type": "execute_result"
    }
   ],
   "source": [
    "# break it down\n",
    "query = \"What core idea behind GEM PRECARE?\"\n",
    "llm_response = qa_chain(query)\n",
    "# process_llm_response(llm_response)\n",
    "llm_response"
   ]
  },
  {
   "cell_type": "markdown",
   "metadata": {
    "id": "RbSbenSDG3DA"
   },
   "source": [
    "# APPENDIX"
   ]
  },
  {
   "cell_type": "markdown",
   "metadata": {
    "id": "YIcrzqwYG9o8"
   },
   "source": [
    "## Open Source Alternative"
   ]
  },
  {
   "cell_type": "code",
   "execution_count": null,
   "metadata": {
    "id": "heZotVQCQu0v"
   },
   "outputs": [],
   "source": [
    "import pickle\n",
    "import faiss\n",
    "from langchain.vectorstores import FAISS"
   ]
  },
  {
   "cell_type": "code",
   "execution_count": null,
   "metadata": {
    "id": "J6G6LU8XQuxV"
   },
   "outputs": [],
   "source": [
    "def store_embeddings(docs, embeddings, sotre_name, path):\n",
    "    \n",
    "    vectorStore = FAISS.from_documents(docs, embeddings)\n",
    "\n",
    "    with open(f\"{path}/faiss_{sotre_name}.pkl\", \"wb\") as f:\n",
    "        pickle.dump(vectorStore, f)"
   ]
  },
  {
   "cell_type": "code",
   "execution_count": null,
   "metadata": {
    "id": "3KHtildKQuu9"
   },
   "outputs": [],
   "source": [
    "def load_embeddings(sotre_name, path):\n",
    "    with open(f\"{path}/faiss_{sotre_name}.pkl\", \"rb\") as f:\n",
    "        VectorStore = pickle.load(f)\n",
    "    return VectorStore"
   ]
  },
  {
   "cell_type": "code",
   "execution_count": null,
   "metadata": {
    "colab": {
     "base_uri": "https://localhost:8080/",
     "height": 554,
     "referenced_widgets": [
      "e79ac19c749f42c9973fb0df0276fee3",
      "be24b1f82ac24666874575c8e08e3370",
      "dcbb150e6c3241d7b1b50a33cee921f6",
      "856f624b6023498bac1e7c3aa901c44b",
      "7bc89b57d0404f2d86a734c52211656a",
      "8518c224b2b54cbca48002d2157c7eae",
      "53aee2cbca4447109fa398e2b92af6f9",
      "6cf4cf1069ca42fba1045da1d1758e96",
      "b289240346f643b0beddd3b336aebb8f",
      "3f45a7588bac43aa83e31c8670b8f567",
      "d6e08317854c47a58d860d693f242223",
      "9ca80a70426f464b836fc9c1d6844b01",
      "7a31eb9911e0412b8bf7faa2ab9a06c9",
      "71ee113c156b42cfba43e0b74bded846",
      "c218b1f34e03425fadc278b8398776da",
      "41fb5c1c835a4084ae68ee54647b0fcc",
      "e42b9f5da83e4c838659df9b9d0fcb18",
      "5aaa0c6b22b94eec822685c181ddc2f9",
      "bfba22566e6a4bceb65ca136daaf680e",
      "35fc1a69a9b54fa0922c3a64513e127c",
      "d7f2f4c4cc8441efa15142e5e13faff3",
      "33089bedfb9746158d524a52ed2c1062",
      "5c6a41b373fe4d7b921e55b6904f92c8",
      "0a7f2c5ce52a4902bb91264bb9bde2ab",
      "7d35bc7c55734cdbb9abefbdfa32bab4",
      "ee5ab1f4bb87475392d92907ead4edba",
      "efa91f7945a344529c2f7a49624508d9",
      "b9099cc68e2b42deb4e256e2b428c113",
      "62096c81facc4b5faa67f469f95014e9",
      "c98f0ffed6114f3ea16df7d1df00dacb",
      "26493f3091e14594865440626bfb32d9",
      "2b4f55bf9c91477da99378b44cc2191e",
      "66297fd8f72144e8a6a5df2f3dc42fee",
      "a6727995ec4b4617a55f43e39ed967d5",
      "5baeb21666f74088bf310552f579a505",
      "cbd78014b7ca404da080c5bd5c3ced84",
      "7280c916de9e4469afe10f66c41e8f40",
      "29027f59ab4b4853a3ddc04047a425f1",
      "689621e7db584d62b9476ac44e07285a",
      "ff9cf361f41d41c498dd4cfb5a916cb4",
      "28d014b7a7004ead8a6b478fbbb56e77",
      "9b97a75f123f436f98571285d2b7e887",
      "f91df6565d144e0eaca1441fa57862ae",
      "2216bc5eefbc4d8db02294fbff54954e",
      "9b1418b781f140ccab9ba79164853417",
      "31b0ee343c9a447f9a220c9841980b09",
      "336619ff630c4cc4aa7972801c9e7074",
      "8b536931d3964396895bcdf9b32b9580",
      "66f064d1fe6e4797bafc7e646d5307f6",
      "f9d005346d5b4d8b8eb3dd97c01f0dc9",
      "05ecacf91f694bfd9fdbb693cdd82ef0",
      "21ce27452ea9437f83102cde95602904",
      "9a87aedc41bd490e90d685cd169b18da",
      "2c1a12ee9bd94114bc92b42ab03b3b46",
      "92230e3582124bc98c3b64f9b31d8c43",
      "7a56686664fa449a94085332f8c8c543",
      "4c24c30b6b3a4f63b4335ca66019813c",
      "95dae69e0efd496a8800da7e65794a70",
      "1c7b816fdb524395a4a9ed6ea6a0dd8d",
      "b8fccbca04a54f819f28eae568883d80",
      "1898f9d35cdf4653827f1fbdac1e05f3",
      "01dd0caca33f4439934d484778faacd9",
      "b7b6750b5f734b709bfd62f8b35f4246",
      "ca9bfc47af4946faa192e36af53faab6",
      "e5782d7f511942eba38b2ba466b826a4",
      "af65fbfec677436bbeaa15c0112bdc0a",
      "a9e3396bc8ba41e89ec78c1673ed105e",
      "b267a9b9612143299bf69088fd997fae",
      "99f5bbd4274f48049185208e5ae588c1",
      "3a60e0c2702c40a5864843c2cdb9a397",
      "fe3ef07fc2334c299474ee33df2331ba",
      "f14e651b5d1b43ecb6ef01694fa1adb8",
      "cf6db63cee5f4188b258e7d25259eb4e",
      "1b4776d87e9148deb26b0653b17540f1",
      "877f0cc270c64f97aed947e39c7c40c5",
      "9eb7f14101a54f518a53a5c00ec611d4",
      "2cee428a50444002afbde5f4d684a21e",
      "99d171be44e144319ed91554f060d989",
      "3880910bc4ae49978e53634f5e0ba81a",
      "6ed758f4f3fa460c98406f8bd028663f",
      "c150345e9964491daeb65f5a86160df3",
      "b92961066e8e47528db02ea71796f35f",
      "ab02adf415254d34b82b776c5313d670",
      "54fa281bde84416e9cf009c49ffb2c85",
      "d8db4f5b5d1b44de9b9992a64bf6e2bd",
      "41d1b1272b7e43b0a4b4a5245d4bfa5e",
      "9b9621147fb3422783822634e6fc11f5",
      "4a317d7d11a445b9b3484c68375f5cae",
      "ca99c25607704a49a5283d83af2bc6f6",
      "75635ee6b9a54fc8a40bebf59871a466",
      "7e703e2e6a504bc492aef3151caf99e2",
      "d48f10895d304c8b90e0fb07969898be",
      "7a67306d673b4e56b3c680a3fe269b84",
      "3e6c2767cb73418e8cc8a1c24c8490a1",
      "d2e90a3c5e4f4d519401f9cc6e44c537",
      "f9201edf425c4a4b89cfb4af724a653c",
      "62aeb90df0a14e6a8f65af43180f82eb",
      "d316a30159534699ab4a3ecb01e41e84",
      "eee768c168bc4ec1b4c61dd675cd9fb5",
      "57a1765cb4d8487e9935d2ffe9800b53",
      "c2ffe72b0f544c6fbc1963b8cef40f8a",
      "b8cd046431d4488bb5eacb5e7b070d2e",
      "e1ef5e9fa1a54697bcbcaafdc07f0af4",
      "319011b842dd4cdaba7dedf68965331a",
      "6e4db1f83a8a4fed8b93f8606419e784",
      "7066f7af119b4643bda01f6d0dab0a99",
      "1fa5e5ba058843bf9b5e60940be22803",
      "0246f9d7da444a2c94a3e3d27d2b4d52",
      "d49da0f25d564a67b8447e3ee2093f2d",
      "4d3445493a054b5da2208095d032809c",
      "1e09caa24df2490d98b83842f6c7b935",
      "deb61391355a4e189a0446574b77ff4b",
      "4ee947afa3174965b754137f8c154e4d",
      "86d58b2f2133400695c92cea61a042b1",
      "c41c55115db34627a105b948df21d2a5",
      "0c62bd101c59448d9f971112f5e0e6d1",
      "7a782e26d4d3426f965f1de514ef1b6c",
      "6279ee4c2c1d437984a8dc65898a67a4",
      "4ac46c83ff9f450d911f5e66cfa13324",
      "dbc9fb4995e9429980c361ccf40a5a40",
      "6cdff1c38a184efc9ddbde78afcbe61f",
      "f36981a09896426aa11821855b366223",
      "9427eb1477a74803bccbb2fbb8667449",
      "94cd4844bef64170965cbec7fbeab079",
      "c0e05b7e167b4dcb91928ddddf41ed97",
      "96c547c4317b47b6a6dcd63496af3baf",
      "8f30e795997b452f9799f6f4794ce194",
      "e4dbc6740555484183f8aedc353f9c75",
      "8252ce9b760b4fcca1de9ee73e6ce5a2",
      "d2dc24688c2244d08077fa90ba2b1e77",
      "8c3e41613d4a4d08b4d77736feaf3e99",
      "ec30da01c23c48c0b443fdca0c628027",
      "9b5dc9cc20b04639b1b774aa01871b7a",
      "541e656bde5d41a6bede9095211dc105",
      "ce0102f5186d4d8abdff74de4c3f7d46",
      "5240c1ef12a840279ce413e3847005dc",
      "2fbaa956600a47b5bdf6b4611fa6be9f",
      "1ef1545d3cdc42568953e637bdea72ec",
      "8344e32abe2a40aea5474ce973428012",
      "45fae00ea59148b2a8d45103ca8692ad",
      "e3c356e413854018a4b13ef762b0dc1a",
      "754d2bc093f24d999cfa5ef975183465",
      "ec066168031341ffa3900b0352c42f4a",
      "e5e1717e592848fd9cd44e025314aebf",
      "b837f3991db3417d8f2e868245e93a3a",
      "9c5d1d4f3fd84ef98d746bac050468a0",
      "2bcb2d75760248a99c4abfd7ccf06e90",
      "32453e6ca60a45f4bf720f4ac5782032",
      "c22f5c9dd31a4a248a49355dc615339e",
      "952e6163652c409da15c41ac5feb5c39",
      "53740f7fa4aa46f9b7a9c6913fea416a",
      "6683e412cc38476bb498a64edfd54671",
      "67e1491e959e48cba18d576ae1ec93ff",
      "322caf8f6d5646e9bec5978ef6fbb242"
     ]
    },
    "id": "v8hdetyVQusd",
    "outputId": "ec190b7f-8744-4df4-ccd7-2c2dd34becfe"
   },
   "outputs": [
    {
     "name": "stderr",
     "output_type": "stream",
     "text": [
      "/usr/local/lib/python3.10/dist-packages/InstructorEmbedding/instructor.py:7: TqdmExperimentalWarning: Using `tqdm.autonotebook.tqdm` in notebook mode. Use `tqdm.tqdm` instead to force console mode (e.g. in jupyter console)\n",
      "  from tqdm.autonotebook import trange\n"
     ]
    },
    {
     "data": {
      "application/vnd.jupyter.widget-view+json": {
       "model_id": "e79ac19c749f42c9973fb0df0276fee3",
       "version_major": 2,
       "version_minor": 0
      },
      "text/plain": [
       "Downloading (…)7f436/.gitattributes:   0%|          | 0.00/1.48k [00:00<?, ?B/s]"
      ]
     },
     "metadata": {},
     "output_type": "display_data"
    },
    {
     "data": {
      "application/vnd.jupyter.widget-view+json": {
       "model_id": "9ca80a70426f464b836fc9c1d6844b01",
       "version_major": 2,
       "version_minor": 0
      },
      "text/plain": [
       "Downloading (…)_Pooling/config.json:   0%|          | 0.00/270 [00:00<?, ?B/s]"
      ]
     },
     "metadata": {},
     "output_type": "display_data"
    },
    {
     "data": {
      "application/vnd.jupyter.widget-view+json": {
       "model_id": "5c6a41b373fe4d7b921e55b6904f92c8",
       "version_major": 2,
       "version_minor": 0
      },
      "text/plain": [
       "Downloading (…)/2_Dense/config.json:   0%|          | 0.00/116 [00:00<?, ?B/s]"
      ]
     },
     "metadata": {},
     "output_type": "display_data"
    },
    {
     "data": {
      "application/vnd.jupyter.widget-view+json": {
       "model_id": "a6727995ec4b4617a55f43e39ed967d5",
       "version_major": 2,
       "version_minor": 0
      },
      "text/plain": [
       "Downloading pytorch_model.bin:   0%|          | 0.00/3.15M [00:00<?, ?B/s]"
      ]
     },
     "metadata": {},
     "output_type": "display_data"
    },
    {
     "data": {
      "application/vnd.jupyter.widget-view+json": {
       "model_id": "9b1418b781f140ccab9ba79164853417",
       "version_major": 2,
       "version_minor": 0
      },
      "text/plain": [
       "Downloading (…)0daf57f436/README.md:   0%|          | 0.00/66.3k [00:00<?, ?B/s]"
      ]
     },
     "metadata": {},
     "output_type": "display_data"
    },
    {
     "data": {
      "application/vnd.jupyter.widget-view+json": {
       "model_id": "7a56686664fa449a94085332f8c8c543",
       "version_major": 2,
       "version_minor": 0
      },
      "text/plain": [
       "Downloading (…)af57f436/config.json:   0%|          | 0.00/1.52k [00:00<?, ?B/s]"
      ]
     },
     "metadata": {},
     "output_type": "display_data"
    },
    {
     "data": {
      "application/vnd.jupyter.widget-view+json": {
       "model_id": "a9e3396bc8ba41e89ec78c1673ed105e",
       "version_major": 2,
       "version_minor": 0
      },
      "text/plain": [
       "Downloading (…)ce_transformers.json:   0%|          | 0.00/122 [00:00<?, ?B/s]"
      ]
     },
     "metadata": {},
     "output_type": "display_data"
    },
    {
     "data": {
      "application/vnd.jupyter.widget-view+json": {
       "model_id": "99d171be44e144319ed91554f060d989",
       "version_major": 2,
       "version_minor": 0
      },
      "text/plain": [
       "Downloading pytorch_model.bin:   0%|          | 0.00/4.96G [00:00<?, ?B/s]"
      ]
     },
     "metadata": {},
     "output_type": "display_data"
    },
    {
     "data": {
      "application/vnd.jupyter.widget-view+json": {
       "model_id": "ca99c25607704a49a5283d83af2bc6f6",
       "version_major": 2,
       "version_minor": 0
      },
      "text/plain": [
       "Downloading (…)nce_bert_config.json:   0%|          | 0.00/53.0 [00:00<?, ?B/s]"
      ]
     },
     "metadata": {},
     "output_type": "display_data"
    },
    {
     "data": {
      "application/vnd.jupyter.widget-view+json": {
       "model_id": "57a1765cb4d8487e9935d2ffe9800b53",
       "version_major": 2,
       "version_minor": 0
      },
      "text/plain": [
       "Downloading (…)cial_tokens_map.json:   0%|          | 0.00/2.20k [00:00<?, ?B/s]"
      ]
     },
     "metadata": {},
     "output_type": "display_data"
    },
    {
     "data": {
      "application/vnd.jupyter.widget-view+json": {
       "model_id": "1e09caa24df2490d98b83842f6c7b935",
       "version_major": 2,
       "version_minor": 0
      },
      "text/plain": [
       "Downloading spiece.model:   0%|          | 0.00/792k [00:00<?, ?B/s]"
      ]
     },
     "metadata": {},
     "output_type": "display_data"
    },
    {
     "data": {
      "application/vnd.jupyter.widget-view+json": {
       "model_id": "f36981a09896426aa11821855b366223",
       "version_major": 2,
       "version_minor": 0
      },
      "text/plain": [
       "Downloading (…)7f436/tokenizer.json:   0%|          | 0.00/2.42M [00:00<?, ?B/s]"
      ]
     },
     "metadata": {},
     "output_type": "display_data"
    },
    {
     "data": {
      "application/vnd.jupyter.widget-view+json": {
       "model_id": "9b5dc9cc20b04639b1b774aa01871b7a",
       "version_major": 2,
       "version_minor": 0
      },
      "text/plain": [
       "Downloading (…)okenizer_config.json:   0%|          | 0.00/2.40k [00:00<?, ?B/s]"
      ]
     },
     "metadata": {},
     "output_type": "display_data"
    },
    {
     "data": {
      "application/vnd.jupyter.widget-view+json": {
       "model_id": "e5e1717e592848fd9cd44e025314aebf",
       "version_major": 2,
       "version_minor": 0
      },
      "text/plain": [
       "Downloading (…)f57f436/modules.json:   0%|          | 0.00/461 [00:00<?, ?B/s]"
      ]
     },
     "metadata": {},
     "output_type": "display_data"
    },
    {
     "name": "stdout",
     "output_type": "stream",
     "text": [
      "load INSTRUCTOR_Transformer\n",
      "max_seq_length  512\n"
     ]
    }
   ],
   "source": [
    "from langchain.embeddings import HuggingFaceInstructEmbeddings\n",
    "\n",
    "instructor_embeddings = HuggingFaceInstructEmbeddings(model_name=\"hkunlp/instructor-xl\", \n",
    "                                                      model_kwargs={\"device\": \"cuda\"})"
   ]
  },
  {
   "cell_type": "markdown",
   "metadata": {
    "id": "YiI0zdZ6sZmQ"
   },
   "source": [
    "## References\n"
   ]
  },
  {
   "cell_type": "markdown",
   "metadata": {
    "id": "fOAt_qGkHQds"
   },
   "source": [
    "- https://python.langchain.com/en/latest/reference/modules/embeddings.html\n",
    "- https://python.langchain.com/en/latest/modules/indexes/vectorstores/examples/faiss.html\n",
    "- https://python.langchain.com/en/latest/modules/indexes/vectorstores/getting_started.html\n",
    "- https://cloud.google.com/dialogflow/pricing#es-agent\n",
    "- https://github.com/imartinez/privateGPT\n",
    "- https://www.logicloop.com/blog/using-chatgpt-to-help-you-write-sql-queries"
   ]
  }
 ],
 "metadata": {
  "colab": {
   "collapsed_sections": [
    "SLddibu5m4ha",
    "JwigpdA0m-K1",
    "U1CBbXyJp6QO",
    "S1HsIpmKqJsi",
    "ntd9CNp2qdrN",
    "0uASvHzp_cGh",
    "NOmoY51VAr8T",
    "filCL6qQEHK-",
    "DlS-tqk9HhqW",
    "RbSbenSDG3DA",
    "YIcrzqwYG9o8",
    "YiI0zdZ6sZmQ"
   ],
   "provenance": []
  },
  "kernelspec": {
   "display_name": "Python 3",
   "language": "python",
   "name": "python3"
  },
  "language_info": {
   "codemirror_mode": {
    "name": "ipython",
    "version": 3
   },
   "file_extension": ".py",
   "mimetype": "text/x-python",
   "name": "python",
   "nbconvert_exporter": "python",
   "pygments_lexer": "ipython3",
   "version": "3.8.8"
  },
  "widgets": {
   "application/vnd.jupyter.widget-state+json": {
    "01dd0caca33f4439934d484778faacd9": {
     "model_module": "@jupyter-widgets/controls",
     "model_module_version": "1.5.0",
     "model_name": "DescriptionStyleModel",
     "state": {
      "_model_module": "@jupyter-widgets/controls",
      "_model_module_version": "1.5.0",
      "_model_name": "DescriptionStyleModel",
      "_view_count": null,
      "_view_module": "@jupyter-widgets/base",
      "_view_module_version": "1.2.0",
      "_view_name": "StyleView",
      "description_width": ""
     }
    },
    "0246f9d7da444a2c94a3e3d27d2b4d52": {
     "model_module": "@jupyter-widgets/controls",
     "model_module_version": "1.5.0",
     "model_name": "ProgressStyleModel",
     "state": {
      "_model_module": "@jupyter-widgets/controls",
      "_model_module_version": "1.5.0",
      "_model_name": "ProgressStyleModel",
      "_view_count": null,
      "_view_module": "@jupyter-widgets/base",
      "_view_module_version": "1.2.0",
      "_view_name": "StyleView",
      "bar_color": null,
      "description_width": ""
     }
    },
    "05ecacf91f694bfd9fdbb693cdd82ef0": {
     "model_module": "@jupyter-widgets/controls",
     "model_module_version": "1.5.0",
     "model_name": "DescriptionStyleModel",
     "state": {
      "_model_module": "@jupyter-widgets/controls",
      "_model_module_version": "1.5.0",
      "_model_name": "DescriptionStyleModel",
      "_view_count": null,
      "_view_module": "@jupyter-widgets/base",
      "_view_module_version": "1.2.0",
      "_view_name": "StyleView",
      "description_width": ""
     }
    },
    "0a7f2c5ce52a4902bb91264bb9bde2ab": {
     "model_module": "@jupyter-widgets/controls",
     "model_module_version": "1.5.0",
     "model_name": "HTMLModel",
     "state": {
      "_dom_classes": [],
      "_model_module": "@jupyter-widgets/controls",
      "_model_module_version": "1.5.0",
      "_model_name": "HTMLModel",
      "_view_count": null,
      "_view_module": "@jupyter-widgets/controls",
      "_view_module_version": "1.5.0",
      "_view_name": "HTMLView",
      "description": "",
      "description_tooltip": null,
      "layout": "IPY_MODEL_b9099cc68e2b42deb4e256e2b428c113",
      "placeholder": "​",
      "style": "IPY_MODEL_62096c81facc4b5faa67f469f95014e9",
      "value": "Downloading (…)/2_Dense/config.json: 100%"
     }
    },
    "0c62bd101c59448d9f971112f5e0e6d1": {
     "model_module": "@jupyter-widgets/base",
     "model_module_version": "1.2.0",
     "model_name": "LayoutModel",
     "state": {
      "_model_module": "@jupyter-widgets/base",
      "_model_module_version": "1.2.0",
      "_model_name": "LayoutModel",
      "_view_count": null,
      "_view_module": "@jupyter-widgets/base",
      "_view_module_version": "1.2.0",
      "_view_name": "LayoutView",
      "align_content": null,
      "align_items": null,
      "align_self": null,
      "border": null,
      "bottom": null,
      "display": null,
      "flex": null,
      "flex_flow": null,
      "grid_area": null,
      "grid_auto_columns": null,
      "grid_auto_flow": null,
      "grid_auto_rows": null,
      "grid_column": null,
      "grid_gap": null,
      "grid_row": null,
      "grid_template_areas": null,
      "grid_template_columns": null,
      "grid_template_rows": null,
      "height": null,
      "justify_content": null,
      "justify_items": null,
      "left": null,
      "margin": null,
      "max_height": null,
      "max_width": null,
      "min_height": null,
      "min_width": null,
      "object_fit": null,
      "object_position": null,
      "order": null,
      "overflow": null,
      "overflow_x": null,
      "overflow_y": null,
      "padding": null,
      "right": null,
      "top": null,
      "visibility": null,
      "width": null
     }
    },
    "1898f9d35cdf4653827f1fbdac1e05f3": {
     "model_module": "@jupyter-widgets/base",
     "model_module_version": "1.2.0",
     "model_name": "LayoutModel",
     "state": {
      "_model_module": "@jupyter-widgets/base",
      "_model_module_version": "1.2.0",
      "_model_name": "LayoutModel",
      "_view_count": null,
      "_view_module": "@jupyter-widgets/base",
      "_view_module_version": "1.2.0",
      "_view_name": "LayoutView",
      "align_content": null,
      "align_items": null,
      "align_self": null,
      "border": null,
      "bottom": null,
      "display": null,
      "flex": null,
      "flex_flow": null,
      "grid_area": null,
      "grid_auto_columns": null,
      "grid_auto_flow": null,
      "grid_auto_rows": null,
      "grid_column": null,
      "grid_gap": null,
      "grid_row": null,
      "grid_template_areas": null,
      "grid_template_columns": null,
      "grid_template_rows": null,
      "height": null,
      "justify_content": null,
      "justify_items": null,
      "left": null,
      "margin": null,
      "max_height": null,
      "max_width": null,
      "min_height": null,
      "min_width": null,
      "object_fit": null,
      "object_position": null,
      "order": null,
      "overflow": null,
      "overflow_x": null,
      "overflow_y": null,
      "padding": null,
      "right": null,
      "top": null,
      "visibility": null,
      "width": null
     }
    },
    "1b4776d87e9148deb26b0653b17540f1": {
     "model_module": "@jupyter-widgets/base",
     "model_module_version": "1.2.0",
     "model_name": "LayoutModel",
     "state": {
      "_model_module": "@jupyter-widgets/base",
      "_model_module_version": "1.2.0",
      "_model_name": "LayoutModel",
      "_view_count": null,
      "_view_module": "@jupyter-widgets/base",
      "_view_module_version": "1.2.0",
      "_view_name": "LayoutView",
      "align_content": null,
      "align_items": null,
      "align_self": null,
      "border": null,
      "bottom": null,
      "display": null,
      "flex": null,
      "flex_flow": null,
      "grid_area": null,
      "grid_auto_columns": null,
      "grid_auto_flow": null,
      "grid_auto_rows": null,
      "grid_column": null,
      "grid_gap": null,
      "grid_row": null,
      "grid_template_areas": null,
      "grid_template_columns": null,
      "grid_template_rows": null,
      "height": null,
      "justify_content": null,
      "justify_items": null,
      "left": null,
      "margin": null,
      "max_height": null,
      "max_width": null,
      "min_height": null,
      "min_width": null,
      "object_fit": null,
      "object_position": null,
      "order": null,
      "overflow": null,
      "overflow_x": null,
      "overflow_y": null,
      "padding": null,
      "right": null,
      "top": null,
      "visibility": null,
      "width": null
     }
    },
    "1c7b816fdb524395a4a9ed6ea6a0dd8d": {
     "model_module": "@jupyter-widgets/controls",
     "model_module_version": "1.5.0",
     "model_name": "HTMLModel",
     "state": {
      "_dom_classes": [],
      "_model_module": "@jupyter-widgets/controls",
      "_model_module_version": "1.5.0",
      "_model_name": "HTMLModel",
      "_view_count": null,
      "_view_module": "@jupyter-widgets/controls",
      "_view_module_version": "1.5.0",
      "_view_name": "HTMLView",
      "description": "",
      "description_tooltip": null,
      "layout": "IPY_MODEL_e5782d7f511942eba38b2ba466b826a4",
      "placeholder": "​",
      "style": "IPY_MODEL_af65fbfec677436bbeaa15c0112bdc0a",
      "value": " 1.52k/1.52k [00:00&lt;00:00, 55.5kB/s]"
     }
    },
    "1e09caa24df2490d98b83842f6c7b935": {
     "model_module": "@jupyter-widgets/controls",
     "model_module_version": "1.5.0",
     "model_name": "HBoxModel",
     "state": {
      "_dom_classes": [],
      "_model_module": "@jupyter-widgets/controls",
      "_model_module_version": "1.5.0",
      "_model_name": "HBoxModel",
      "_view_count": null,
      "_view_module": "@jupyter-widgets/controls",
      "_view_module_version": "1.5.0",
      "_view_name": "HBoxView",
      "box_style": "",
      "children": [
       "IPY_MODEL_deb61391355a4e189a0446574b77ff4b",
       "IPY_MODEL_4ee947afa3174965b754137f8c154e4d",
       "IPY_MODEL_86d58b2f2133400695c92cea61a042b1"
      ],
      "layout": "IPY_MODEL_c41c55115db34627a105b948df21d2a5"
     }
    },
    "1ef1545d3cdc42568953e637bdea72ec": {
     "model_module": "@jupyter-widgets/base",
     "model_module_version": "1.2.0",
     "model_name": "LayoutModel",
     "state": {
      "_model_module": "@jupyter-widgets/base",
      "_model_module_version": "1.2.0",
      "_model_name": "LayoutModel",
      "_view_count": null,
      "_view_module": "@jupyter-widgets/base",
      "_view_module_version": "1.2.0",
      "_view_name": "LayoutView",
      "align_content": null,
      "align_items": null,
      "align_self": null,
      "border": null,
      "bottom": null,
      "display": null,
      "flex": null,
      "flex_flow": null,
      "grid_area": null,
      "grid_auto_columns": null,
      "grid_auto_flow": null,
      "grid_auto_rows": null,
      "grid_column": null,
      "grid_gap": null,
      "grid_row": null,
      "grid_template_areas": null,
      "grid_template_columns": null,
      "grid_template_rows": null,
      "height": null,
      "justify_content": null,
      "justify_items": null,
      "left": null,
      "margin": null,
      "max_height": null,
      "max_width": null,
      "min_height": null,
      "min_width": null,
      "object_fit": null,
      "object_position": null,
      "order": null,
      "overflow": null,
      "overflow_x": null,
      "overflow_y": null,
      "padding": null,
      "right": null,
      "top": null,
      "visibility": null,
      "width": null
     }
    },
    "1fa5e5ba058843bf9b5e60940be22803": {
     "model_module": "@jupyter-widgets/base",
     "model_module_version": "1.2.0",
     "model_name": "LayoutModel",
     "state": {
      "_model_module": "@jupyter-widgets/base",
      "_model_module_version": "1.2.0",
      "_model_name": "LayoutModel",
      "_view_count": null,
      "_view_module": "@jupyter-widgets/base",
      "_view_module_version": "1.2.0",
      "_view_name": "LayoutView",
      "align_content": null,
      "align_items": null,
      "align_self": null,
      "border": null,
      "bottom": null,
      "display": null,
      "flex": null,
      "flex_flow": null,
      "grid_area": null,
      "grid_auto_columns": null,
      "grid_auto_flow": null,
      "grid_auto_rows": null,
      "grid_column": null,
      "grid_gap": null,
      "grid_row": null,
      "grid_template_areas": null,
      "grid_template_columns": null,
      "grid_template_rows": null,
      "height": null,
      "justify_content": null,
      "justify_items": null,
      "left": null,
      "margin": null,
      "max_height": null,
      "max_width": null,
      "min_height": null,
      "min_width": null,
      "object_fit": null,
      "object_position": null,
      "order": null,
      "overflow": null,
      "overflow_x": null,
      "overflow_y": null,
      "padding": null,
      "right": null,
      "top": null,
      "visibility": null,
      "width": null
     }
    },
    "21ce27452ea9437f83102cde95602904": {
     "model_module": "@jupyter-widgets/base",
     "model_module_version": "1.2.0",
     "model_name": "LayoutModel",
     "state": {
      "_model_module": "@jupyter-widgets/base",
      "_model_module_version": "1.2.0",
      "_model_name": "LayoutModel",
      "_view_count": null,
      "_view_module": "@jupyter-widgets/base",
      "_view_module_version": "1.2.0",
      "_view_name": "LayoutView",
      "align_content": null,
      "align_items": null,
      "align_self": null,
      "border": null,
      "bottom": null,
      "display": null,
      "flex": null,
      "flex_flow": null,
      "grid_area": null,
      "grid_auto_columns": null,
      "grid_auto_flow": null,
      "grid_auto_rows": null,
      "grid_column": null,
      "grid_gap": null,
      "grid_row": null,
      "grid_template_areas": null,
      "grid_template_columns": null,
      "grid_template_rows": null,
      "height": null,
      "justify_content": null,
      "justify_items": null,
      "left": null,
      "margin": null,
      "max_height": null,
      "max_width": null,
      "min_height": null,
      "min_width": null,
      "object_fit": null,
      "object_position": null,
      "order": null,
      "overflow": null,
      "overflow_x": null,
      "overflow_y": null,
      "padding": null,
      "right": null,
      "top": null,
      "visibility": null,
      "width": null
     }
    },
    "2216bc5eefbc4d8db02294fbff54954e": {
     "model_module": "@jupyter-widgets/controls",
     "model_module_version": "1.5.0",
     "model_name": "DescriptionStyleModel",
     "state": {
      "_model_module": "@jupyter-widgets/controls",
      "_model_module_version": "1.5.0",
      "_model_name": "DescriptionStyleModel",
      "_view_count": null,
      "_view_module": "@jupyter-widgets/base",
      "_view_module_version": "1.2.0",
      "_view_name": "StyleView",
      "description_width": ""
     }
    },
    "26493f3091e14594865440626bfb32d9": {
     "model_module": "@jupyter-widgets/controls",
     "model_module_version": "1.5.0",
     "model_name": "ProgressStyleModel",
     "state": {
      "_model_module": "@jupyter-widgets/controls",
      "_model_module_version": "1.5.0",
      "_model_name": "ProgressStyleModel",
      "_view_count": null,
      "_view_module": "@jupyter-widgets/base",
      "_view_module_version": "1.2.0",
      "_view_name": "StyleView",
      "bar_color": null,
      "description_width": ""
     }
    },
    "28d014b7a7004ead8a6b478fbbb56e77": {
     "model_module": "@jupyter-widgets/base",
     "model_module_version": "1.2.0",
     "model_name": "LayoutModel",
     "state": {
      "_model_module": "@jupyter-widgets/base",
      "_model_module_version": "1.2.0",
      "_model_name": "LayoutModel",
      "_view_count": null,
      "_view_module": "@jupyter-widgets/base",
      "_view_module_version": "1.2.0",
      "_view_name": "LayoutView",
      "align_content": null,
      "align_items": null,
      "align_self": null,
      "border": null,
      "bottom": null,
      "display": null,
      "flex": null,
      "flex_flow": null,
      "grid_area": null,
      "grid_auto_columns": null,
      "grid_auto_flow": null,
      "grid_auto_rows": null,
      "grid_column": null,
      "grid_gap": null,
      "grid_row": null,
      "grid_template_areas": null,
      "grid_template_columns": null,
      "grid_template_rows": null,
      "height": null,
      "justify_content": null,
      "justify_items": null,
      "left": null,
      "margin": null,
      "max_height": null,
      "max_width": null,
      "min_height": null,
      "min_width": null,
      "object_fit": null,
      "object_position": null,
      "order": null,
      "overflow": null,
      "overflow_x": null,
      "overflow_y": null,
      "padding": null,
      "right": null,
      "top": null,
      "visibility": null,
      "width": null
     }
    },
    "29027f59ab4b4853a3ddc04047a425f1": {
     "model_module": "@jupyter-widgets/base",
     "model_module_version": "1.2.0",
     "model_name": "LayoutModel",
     "state": {
      "_model_module": "@jupyter-widgets/base",
      "_model_module_version": "1.2.0",
      "_model_name": "LayoutModel",
      "_view_count": null,
      "_view_module": "@jupyter-widgets/base",
      "_view_module_version": "1.2.0",
      "_view_name": "LayoutView",
      "align_content": null,
      "align_items": null,
      "align_self": null,
      "border": null,
      "bottom": null,
      "display": null,
      "flex": null,
      "flex_flow": null,
      "grid_area": null,
      "grid_auto_columns": null,
      "grid_auto_flow": null,
      "grid_auto_rows": null,
      "grid_column": null,
      "grid_gap": null,
      "grid_row": null,
      "grid_template_areas": null,
      "grid_template_columns": null,
      "grid_template_rows": null,
      "height": null,
      "justify_content": null,
      "justify_items": null,
      "left": null,
      "margin": null,
      "max_height": null,
      "max_width": null,
      "min_height": null,
      "min_width": null,
      "object_fit": null,
      "object_position": null,
      "order": null,
      "overflow": null,
      "overflow_x": null,
      "overflow_y": null,
      "padding": null,
      "right": null,
      "top": null,
      "visibility": null,
      "width": null
     }
    },
    "2b4f55bf9c91477da99378b44cc2191e": {
     "model_module": "@jupyter-widgets/base",
     "model_module_version": "1.2.0",
     "model_name": "LayoutModel",
     "state": {
      "_model_module": "@jupyter-widgets/base",
      "_model_module_version": "1.2.0",
      "_model_name": "LayoutModel",
      "_view_count": null,
      "_view_module": "@jupyter-widgets/base",
      "_view_module_version": "1.2.0",
      "_view_name": "LayoutView",
      "align_content": null,
      "align_items": null,
      "align_self": null,
      "border": null,
      "bottom": null,
      "display": null,
      "flex": null,
      "flex_flow": null,
      "grid_area": null,
      "grid_auto_columns": null,
      "grid_auto_flow": null,
      "grid_auto_rows": null,
      "grid_column": null,
      "grid_gap": null,
      "grid_row": null,
      "grid_template_areas": null,
      "grid_template_columns": null,
      "grid_template_rows": null,
      "height": null,
      "justify_content": null,
      "justify_items": null,
      "left": null,
      "margin": null,
      "max_height": null,
      "max_width": null,
      "min_height": null,
      "min_width": null,
      "object_fit": null,
      "object_position": null,
      "order": null,
      "overflow": null,
      "overflow_x": null,
      "overflow_y": null,
      "padding": null,
      "right": null,
      "top": null,
      "visibility": null,
      "width": null
     }
    },
    "2bcb2d75760248a99c4abfd7ccf06e90": {
     "model_module": "@jupyter-widgets/controls",
     "model_module_version": "1.5.0",
     "model_name": "HTMLModel",
     "state": {
      "_dom_classes": [],
      "_model_module": "@jupyter-widgets/controls",
      "_model_module_version": "1.5.0",
      "_model_name": "HTMLModel",
      "_view_count": null,
      "_view_module": "@jupyter-widgets/controls",
      "_view_module_version": "1.5.0",
      "_view_name": "HTMLView",
      "description": "",
      "description_tooltip": null,
      "layout": "IPY_MODEL_67e1491e959e48cba18d576ae1ec93ff",
      "placeholder": "​",
      "style": "IPY_MODEL_322caf8f6d5646e9bec5978ef6fbb242",
      "value": " 461/461 [00:00&lt;00:00, 15.4kB/s]"
     }
    },
    "2c1a12ee9bd94114bc92b42ab03b3b46": {
     "model_module": "@jupyter-widgets/base",
     "model_module_version": "1.2.0",
     "model_name": "LayoutModel",
     "state": {
      "_model_module": "@jupyter-widgets/base",
      "_model_module_version": "1.2.0",
      "_model_name": "LayoutModel",
      "_view_count": null,
      "_view_module": "@jupyter-widgets/base",
      "_view_module_version": "1.2.0",
      "_view_name": "LayoutView",
      "align_content": null,
      "align_items": null,
      "align_self": null,
      "border": null,
      "bottom": null,
      "display": null,
      "flex": null,
      "flex_flow": null,
      "grid_area": null,
      "grid_auto_columns": null,
      "grid_auto_flow": null,
      "grid_auto_rows": null,
      "grid_column": null,
      "grid_gap": null,
      "grid_row": null,
      "grid_template_areas": null,
      "grid_template_columns": null,
      "grid_template_rows": null,
      "height": null,
      "justify_content": null,
      "justify_items": null,
      "left": null,
      "margin": null,
      "max_height": null,
      "max_width": null,
      "min_height": null,
      "min_width": null,
      "object_fit": null,
      "object_position": null,
      "order": null,
      "overflow": null,
      "overflow_x": null,
      "overflow_y": null,
      "padding": null,
      "right": null,
      "top": null,
      "visibility": null,
      "width": null
     }
    },
    "2cee428a50444002afbde5f4d684a21e": {
     "model_module": "@jupyter-widgets/controls",
     "model_module_version": "1.5.0",
     "model_name": "DescriptionStyleModel",
     "state": {
      "_model_module": "@jupyter-widgets/controls",
      "_model_module_version": "1.5.0",
      "_model_name": "DescriptionStyleModel",
      "_view_count": null,
      "_view_module": "@jupyter-widgets/base",
      "_view_module_version": "1.2.0",
      "_view_name": "StyleView",
      "description_width": ""
     }
    },
    "2fbaa956600a47b5bdf6b4611fa6be9f": {
     "model_module": "@jupyter-widgets/base",
     "model_module_version": "1.2.0",
     "model_name": "LayoutModel",
     "state": {
      "_model_module": "@jupyter-widgets/base",
      "_model_module_version": "1.2.0",
      "_model_name": "LayoutModel",
      "_view_count": null,
      "_view_module": "@jupyter-widgets/base",
      "_view_module_version": "1.2.0",
      "_view_name": "LayoutView",
      "align_content": null,
      "align_items": null,
      "align_self": null,
      "border": null,
      "bottom": null,
      "display": null,
      "flex": null,
      "flex_flow": null,
      "grid_area": null,
      "grid_auto_columns": null,
      "grid_auto_flow": null,
      "grid_auto_rows": null,
      "grid_column": null,
      "grid_gap": null,
      "grid_row": null,
      "grid_template_areas": null,
      "grid_template_columns": null,
      "grid_template_rows": null,
      "height": null,
      "justify_content": null,
      "justify_items": null,
      "left": null,
      "margin": null,
      "max_height": null,
      "max_width": null,
      "min_height": null,
      "min_width": null,
      "object_fit": null,
      "object_position": null,
      "order": null,
      "overflow": null,
      "overflow_x": null,
      "overflow_y": null,
      "padding": null,
      "right": null,
      "top": null,
      "visibility": null,
      "width": null
     }
    },
    "319011b842dd4cdaba7dedf68965331a": {
     "model_module": "@jupyter-widgets/base",
     "model_module_version": "1.2.0",
     "model_name": "LayoutModel",
     "state": {
      "_model_module": "@jupyter-widgets/base",
      "_model_module_version": "1.2.0",
      "_model_name": "LayoutModel",
      "_view_count": null,
      "_view_module": "@jupyter-widgets/base",
      "_view_module_version": "1.2.0",
      "_view_name": "LayoutView",
      "align_content": null,
      "align_items": null,
      "align_self": null,
      "border": null,
      "bottom": null,
      "display": null,
      "flex": null,
      "flex_flow": null,
      "grid_area": null,
      "grid_auto_columns": null,
      "grid_auto_flow": null,
      "grid_auto_rows": null,
      "grid_column": null,
      "grid_gap": null,
      "grid_row": null,
      "grid_template_areas": null,
      "grid_template_columns": null,
      "grid_template_rows": null,
      "height": null,
      "justify_content": null,
      "justify_items": null,
      "left": null,
      "margin": null,
      "max_height": null,
      "max_width": null,
      "min_height": null,
      "min_width": null,
      "object_fit": null,
      "object_position": null,
      "order": null,
      "overflow": null,
      "overflow_x": null,
      "overflow_y": null,
      "padding": null,
      "right": null,
      "top": null,
      "visibility": null,
      "width": null
     }
    },
    "31b0ee343c9a447f9a220c9841980b09": {
     "model_module": "@jupyter-widgets/controls",
     "model_module_version": "1.5.0",
     "model_name": "HTMLModel",
     "state": {
      "_dom_classes": [],
      "_model_module": "@jupyter-widgets/controls",
      "_model_module_version": "1.5.0",
      "_model_name": "HTMLModel",
      "_view_count": null,
      "_view_module": "@jupyter-widgets/controls",
      "_view_module_version": "1.5.0",
      "_view_name": "HTMLView",
      "description": "",
      "description_tooltip": null,
      "layout": "IPY_MODEL_f9d005346d5b4d8b8eb3dd97c01f0dc9",
      "placeholder": "​",
      "style": "IPY_MODEL_05ecacf91f694bfd9fdbb693cdd82ef0",
      "value": "Downloading (…)0daf57f436/README.md: 100%"
     }
    },
    "322caf8f6d5646e9bec5978ef6fbb242": {
     "model_module": "@jupyter-widgets/controls",
     "model_module_version": "1.5.0",
     "model_name": "DescriptionStyleModel",
     "state": {
      "_model_module": "@jupyter-widgets/controls",
      "_model_module_version": "1.5.0",
      "_model_name": "DescriptionStyleModel",
      "_view_count": null,
      "_view_module": "@jupyter-widgets/base",
      "_view_module_version": "1.2.0",
      "_view_name": "StyleView",
      "description_width": ""
     }
    },
    "32453e6ca60a45f4bf720f4ac5782032": {
     "model_module": "@jupyter-widgets/base",
     "model_module_version": "1.2.0",
     "model_name": "LayoutModel",
     "state": {
      "_model_module": "@jupyter-widgets/base",
      "_model_module_version": "1.2.0",
      "_model_name": "LayoutModel",
      "_view_count": null,
      "_view_module": "@jupyter-widgets/base",
      "_view_module_version": "1.2.0",
      "_view_name": "LayoutView",
      "align_content": null,
      "align_items": null,
      "align_self": null,
      "border": null,
      "bottom": null,
      "display": null,
      "flex": null,
      "flex_flow": null,
      "grid_area": null,
      "grid_auto_columns": null,
      "grid_auto_flow": null,
      "grid_auto_rows": null,
      "grid_column": null,
      "grid_gap": null,
      "grid_row": null,
      "grid_template_areas": null,
      "grid_template_columns": null,
      "grid_template_rows": null,
      "height": null,
      "justify_content": null,
      "justify_items": null,
      "left": null,
      "margin": null,
      "max_height": null,
      "max_width": null,
      "min_height": null,
      "min_width": null,
      "object_fit": null,
      "object_position": null,
      "order": null,
      "overflow": null,
      "overflow_x": null,
      "overflow_y": null,
      "padding": null,
      "right": null,
      "top": null,
      "visibility": null,
      "width": null
     }
    },
    "33089bedfb9746158d524a52ed2c1062": {
     "model_module": "@jupyter-widgets/controls",
     "model_module_version": "1.5.0",
     "model_name": "DescriptionStyleModel",
     "state": {
      "_model_module": "@jupyter-widgets/controls",
      "_model_module_version": "1.5.0",
      "_model_name": "DescriptionStyleModel",
      "_view_count": null,
      "_view_module": "@jupyter-widgets/base",
      "_view_module_version": "1.2.0",
      "_view_name": "StyleView",
      "description_width": ""
     }
    },
    "336619ff630c4cc4aa7972801c9e7074": {
     "model_module": "@jupyter-widgets/controls",
     "model_module_version": "1.5.0",
     "model_name": "FloatProgressModel",
     "state": {
      "_dom_classes": [],
      "_model_module": "@jupyter-widgets/controls",
      "_model_module_version": "1.5.0",
      "_model_name": "FloatProgressModel",
      "_view_count": null,
      "_view_module": "@jupyter-widgets/controls",
      "_view_module_version": "1.5.0",
      "_view_name": "ProgressView",
      "bar_style": "success",
      "description": "",
      "description_tooltip": null,
      "layout": "IPY_MODEL_21ce27452ea9437f83102cde95602904",
      "max": 66342,
      "min": 0,
      "orientation": "horizontal",
      "style": "IPY_MODEL_9a87aedc41bd490e90d685cd169b18da",
      "value": 66342
     }
    },
    "35fc1a69a9b54fa0922c3a64513e127c": {
     "model_module": "@jupyter-widgets/controls",
     "model_module_version": "1.5.0",
     "model_name": "ProgressStyleModel",
     "state": {
      "_model_module": "@jupyter-widgets/controls",
      "_model_module_version": "1.5.0",
      "_model_name": "ProgressStyleModel",
      "_view_count": null,
      "_view_module": "@jupyter-widgets/base",
      "_view_module_version": "1.2.0",
      "_view_name": "StyleView",
      "bar_color": null,
      "description_width": ""
     }
    },
    "3880910bc4ae49978e53634f5e0ba81a": {
     "model_module": "@jupyter-widgets/controls",
     "model_module_version": "1.5.0",
     "model_name": "HTMLModel",
     "state": {
      "_dom_classes": [],
      "_model_module": "@jupyter-widgets/controls",
      "_model_module_version": "1.5.0",
      "_model_name": "HTMLModel",
      "_view_count": null,
      "_view_module": "@jupyter-widgets/controls",
      "_view_module_version": "1.5.0",
      "_view_name": "HTMLView",
      "description": "",
      "description_tooltip": null,
      "layout": "IPY_MODEL_ab02adf415254d34b82b776c5313d670",
      "placeholder": "​",
      "style": "IPY_MODEL_54fa281bde84416e9cf009c49ffb2c85",
      "value": "Downloading pytorch_model.bin: 100%"
     }
    },
    "3a60e0c2702c40a5864843c2cdb9a397": {
     "model_module": "@jupyter-widgets/controls",
     "model_module_version": "1.5.0",
     "model_name": "HTMLModel",
     "state": {
      "_dom_classes": [],
      "_model_module": "@jupyter-widgets/controls",
      "_model_module_version": "1.5.0",
      "_model_name": "HTMLModel",
      "_view_count": null,
      "_view_module": "@jupyter-widgets/controls",
      "_view_module_version": "1.5.0",
      "_view_name": "HTMLView",
      "description": "",
      "description_tooltip": null,
      "layout": "IPY_MODEL_9eb7f14101a54f518a53a5c00ec611d4",
      "placeholder": "​",
      "style": "IPY_MODEL_2cee428a50444002afbde5f4d684a21e",
      "value": " 122/122 [00:00&lt;00:00, 4.40kB/s]"
     }
    },
    "3e6c2767cb73418e8cc8a1c24c8490a1": {
     "model_module": "@jupyter-widgets/base",
     "model_module_version": "1.2.0",
     "model_name": "LayoutModel",
     "state": {
      "_model_module": "@jupyter-widgets/base",
      "_model_module_version": "1.2.0",
      "_model_name": "LayoutModel",
      "_view_count": null,
      "_view_module": "@jupyter-widgets/base",
      "_view_module_version": "1.2.0",
      "_view_name": "LayoutView",
      "align_content": null,
      "align_items": null,
      "align_self": null,
      "border": null,
      "bottom": null,
      "display": null,
      "flex": null,
      "flex_flow": null,
      "grid_area": null,
      "grid_auto_columns": null,
      "grid_auto_flow": null,
      "grid_auto_rows": null,
      "grid_column": null,
      "grid_gap": null,
      "grid_row": null,
      "grid_template_areas": null,
      "grid_template_columns": null,
      "grid_template_rows": null,
      "height": null,
      "justify_content": null,
      "justify_items": null,
      "left": null,
      "margin": null,
      "max_height": null,
      "max_width": null,
      "min_height": null,
      "min_width": null,
      "object_fit": null,
      "object_position": null,
      "order": null,
      "overflow": null,
      "overflow_x": null,
      "overflow_y": null,
      "padding": null,
      "right": null,
      "top": null,
      "visibility": null,
      "width": null
     }
    },
    "3f45a7588bac43aa83e31c8670b8f567": {
     "model_module": "@jupyter-widgets/base",
     "model_module_version": "1.2.0",
     "model_name": "LayoutModel",
     "state": {
      "_model_module": "@jupyter-widgets/base",
      "_model_module_version": "1.2.0",
      "_model_name": "LayoutModel",
      "_view_count": null,
      "_view_module": "@jupyter-widgets/base",
      "_view_module_version": "1.2.0",
      "_view_name": "LayoutView",
      "align_content": null,
      "align_items": null,
      "align_self": null,
      "border": null,
      "bottom": null,
      "display": null,
      "flex": null,
      "flex_flow": null,
      "grid_area": null,
      "grid_auto_columns": null,
      "grid_auto_flow": null,
      "grid_auto_rows": null,
      "grid_column": null,
      "grid_gap": null,
      "grid_row": null,
      "grid_template_areas": null,
      "grid_template_columns": null,
      "grid_template_rows": null,
      "height": null,
      "justify_content": null,
      "justify_items": null,
      "left": null,
      "margin": null,
      "max_height": null,
      "max_width": null,
      "min_height": null,
      "min_width": null,
      "object_fit": null,
      "object_position": null,
      "order": null,
      "overflow": null,
      "overflow_x": null,
      "overflow_y": null,
      "padding": null,
      "right": null,
      "top": null,
      "visibility": null,
      "width": null
     }
    },
    "41d1b1272b7e43b0a4b4a5245d4bfa5e": {
     "model_module": "@jupyter-widgets/controls",
     "model_module_version": "1.5.0",
     "model_name": "ProgressStyleModel",
     "state": {
      "_model_module": "@jupyter-widgets/controls",
      "_model_module_version": "1.5.0",
      "_model_name": "ProgressStyleModel",
      "_view_count": null,
      "_view_module": "@jupyter-widgets/base",
      "_view_module_version": "1.2.0",
      "_view_name": "StyleView",
      "bar_color": null,
      "description_width": ""
     }
    },
    "41fb5c1c835a4084ae68ee54647b0fcc": {
     "model_module": "@jupyter-widgets/base",
     "model_module_version": "1.2.0",
     "model_name": "LayoutModel",
     "state": {
      "_model_module": "@jupyter-widgets/base",
      "_model_module_version": "1.2.0",
      "_model_name": "LayoutModel",
      "_view_count": null,
      "_view_module": "@jupyter-widgets/base",
      "_view_module_version": "1.2.0",
      "_view_name": "LayoutView",
      "align_content": null,
      "align_items": null,
      "align_self": null,
      "border": null,
      "bottom": null,
      "display": null,
      "flex": null,
      "flex_flow": null,
      "grid_area": null,
      "grid_auto_columns": null,
      "grid_auto_flow": null,
      "grid_auto_rows": null,
      "grid_column": null,
      "grid_gap": null,
      "grid_row": null,
      "grid_template_areas": null,
      "grid_template_columns": null,
      "grid_template_rows": null,
      "height": null,
      "justify_content": null,
      "justify_items": null,
      "left": null,
      "margin": null,
      "max_height": null,
      "max_width": null,
      "min_height": null,
      "min_width": null,
      "object_fit": null,
      "object_position": null,
      "order": null,
      "overflow": null,
      "overflow_x": null,
      "overflow_y": null,
      "padding": null,
      "right": null,
      "top": null,
      "visibility": null,
      "width": null
     }
    },
    "45fae00ea59148b2a8d45103ca8692ad": {
     "model_module": "@jupyter-widgets/base",
     "model_module_version": "1.2.0",
     "model_name": "LayoutModel",
     "state": {
      "_model_module": "@jupyter-widgets/base",
      "_model_module_version": "1.2.0",
      "_model_name": "LayoutModel",
      "_view_count": null,
      "_view_module": "@jupyter-widgets/base",
      "_view_module_version": "1.2.0",
      "_view_name": "LayoutView",
      "align_content": null,
      "align_items": null,
      "align_self": null,
      "border": null,
      "bottom": null,
      "display": null,
      "flex": null,
      "flex_flow": null,
      "grid_area": null,
      "grid_auto_columns": null,
      "grid_auto_flow": null,
      "grid_auto_rows": null,
      "grid_column": null,
      "grid_gap": null,
      "grid_row": null,
      "grid_template_areas": null,
      "grid_template_columns": null,
      "grid_template_rows": null,
      "height": null,
      "justify_content": null,
      "justify_items": null,
      "left": null,
      "margin": null,
      "max_height": null,
      "max_width": null,
      "min_height": null,
      "min_width": null,
      "object_fit": null,
      "object_position": null,
      "order": null,
      "overflow": null,
      "overflow_x": null,
      "overflow_y": null,
      "padding": null,
      "right": null,
      "top": null,
      "visibility": null,
      "width": null
     }
    },
    "4a317d7d11a445b9b3484c68375f5cae": {
     "model_module": "@jupyter-widgets/controls",
     "model_module_version": "1.5.0",
     "model_name": "DescriptionStyleModel",
     "state": {
      "_model_module": "@jupyter-widgets/controls",
      "_model_module_version": "1.5.0",
      "_model_name": "DescriptionStyleModel",
      "_view_count": null,
      "_view_module": "@jupyter-widgets/base",
      "_view_module_version": "1.2.0",
      "_view_name": "StyleView",
      "description_width": ""
     }
    },
    "4ac46c83ff9f450d911f5e66cfa13324": {
     "model_module": "@jupyter-widgets/controls",
     "model_module_version": "1.5.0",
     "model_name": "ProgressStyleModel",
     "state": {
      "_model_module": "@jupyter-widgets/controls",
      "_model_module_version": "1.5.0",
      "_model_name": "ProgressStyleModel",
      "_view_count": null,
      "_view_module": "@jupyter-widgets/base",
      "_view_module_version": "1.2.0",
      "_view_name": "StyleView",
      "bar_color": null,
      "description_width": ""
     }
    },
    "4c24c30b6b3a4f63b4335ca66019813c": {
     "model_module": "@jupyter-widgets/controls",
     "model_module_version": "1.5.0",
     "model_name": "HTMLModel",
     "state": {
      "_dom_classes": [],
      "_model_module": "@jupyter-widgets/controls",
      "_model_module_version": "1.5.0",
      "_model_name": "HTMLModel",
      "_view_count": null,
      "_view_module": "@jupyter-widgets/controls",
      "_view_module_version": "1.5.0",
      "_view_name": "HTMLView",
      "description": "",
      "description_tooltip": null,
      "layout": "IPY_MODEL_1898f9d35cdf4653827f1fbdac1e05f3",
      "placeholder": "​",
      "style": "IPY_MODEL_01dd0caca33f4439934d484778faacd9",
      "value": "Downloading (…)af57f436/config.json: 100%"
     }
    },
    "4d3445493a054b5da2208095d032809c": {
     "model_module": "@jupyter-widgets/controls",
     "model_module_version": "1.5.0",
     "model_name": "DescriptionStyleModel",
     "state": {
      "_model_module": "@jupyter-widgets/controls",
      "_model_module_version": "1.5.0",
      "_model_name": "DescriptionStyleModel",
      "_view_count": null,
      "_view_module": "@jupyter-widgets/base",
      "_view_module_version": "1.2.0",
      "_view_name": "StyleView",
      "description_width": ""
     }
    },
    "4ee947afa3174965b754137f8c154e4d": {
     "model_module": "@jupyter-widgets/controls",
     "model_module_version": "1.5.0",
     "model_name": "FloatProgressModel",
     "state": {
      "_dom_classes": [],
      "_model_module": "@jupyter-widgets/controls",
      "_model_module_version": "1.5.0",
      "_model_name": "FloatProgressModel",
      "_view_count": null,
      "_view_module": "@jupyter-widgets/controls",
      "_view_module_version": "1.5.0",
      "_view_name": "ProgressView",
      "bar_style": "success",
      "description": "",
      "description_tooltip": null,
      "layout": "IPY_MODEL_6279ee4c2c1d437984a8dc65898a67a4",
      "max": 791656,
      "min": 0,
      "orientation": "horizontal",
      "style": "IPY_MODEL_4ac46c83ff9f450d911f5e66cfa13324",
      "value": 791656
     }
    },
    "5240c1ef12a840279ce413e3847005dc": {
     "model_module": "@jupyter-widgets/controls",
     "model_module_version": "1.5.0",
     "model_name": "HTMLModel",
     "state": {
      "_dom_classes": [],
      "_model_module": "@jupyter-widgets/controls",
      "_model_module_version": "1.5.0",
      "_model_name": "HTMLModel",
      "_view_count": null,
      "_view_module": "@jupyter-widgets/controls",
      "_view_module_version": "1.5.0",
      "_view_name": "HTMLView",
      "description": "",
      "description_tooltip": null,
      "layout": "IPY_MODEL_754d2bc093f24d999cfa5ef975183465",
      "placeholder": "​",
      "style": "IPY_MODEL_ec066168031341ffa3900b0352c42f4a",
      "value": " 2.40k/2.40k [00:00&lt;00:00, 137kB/s]"
     }
    },
    "53740f7fa4aa46f9b7a9c6913fea416a": {
     "model_module": "@jupyter-widgets/base",
     "model_module_version": "1.2.0",
     "model_name": "LayoutModel",
     "state": {
      "_model_module": "@jupyter-widgets/base",
      "_model_module_version": "1.2.0",
      "_model_name": "LayoutModel",
      "_view_count": null,
      "_view_module": "@jupyter-widgets/base",
      "_view_module_version": "1.2.0",
      "_view_name": "LayoutView",
      "align_content": null,
      "align_items": null,
      "align_self": null,
      "border": null,
      "bottom": null,
      "display": null,
      "flex": null,
      "flex_flow": null,
      "grid_area": null,
      "grid_auto_columns": null,
      "grid_auto_flow": null,
      "grid_auto_rows": null,
      "grid_column": null,
      "grid_gap": null,
      "grid_row": null,
      "grid_template_areas": null,
      "grid_template_columns": null,
      "grid_template_rows": null,
      "height": null,
      "justify_content": null,
      "justify_items": null,
      "left": null,
      "margin": null,
      "max_height": null,
      "max_width": null,
      "min_height": null,
      "min_width": null,
      "object_fit": null,
      "object_position": null,
      "order": null,
      "overflow": null,
      "overflow_x": null,
      "overflow_y": null,
      "padding": null,
      "right": null,
      "top": null,
      "visibility": null,
      "width": null
     }
    },
    "53aee2cbca4447109fa398e2b92af6f9": {
     "model_module": "@jupyter-widgets/controls",
     "model_module_version": "1.5.0",
     "model_name": "DescriptionStyleModel",
     "state": {
      "_model_module": "@jupyter-widgets/controls",
      "_model_module_version": "1.5.0",
      "_model_name": "DescriptionStyleModel",
      "_view_count": null,
      "_view_module": "@jupyter-widgets/base",
      "_view_module_version": "1.2.0",
      "_view_name": "StyleView",
      "description_width": ""
     }
    },
    "541e656bde5d41a6bede9095211dc105": {
     "model_module": "@jupyter-widgets/controls",
     "model_module_version": "1.5.0",
     "model_name": "HTMLModel",
     "state": {
      "_dom_classes": [],
      "_model_module": "@jupyter-widgets/controls",
      "_model_module_version": "1.5.0",
      "_model_name": "HTMLModel",
      "_view_count": null,
      "_view_module": "@jupyter-widgets/controls",
      "_view_module_version": "1.5.0",
      "_view_name": "HTMLView",
      "description": "",
      "description_tooltip": null,
      "layout": "IPY_MODEL_1ef1545d3cdc42568953e637bdea72ec",
      "placeholder": "​",
      "style": "IPY_MODEL_8344e32abe2a40aea5474ce973428012",
      "value": "Downloading (…)okenizer_config.json: 100%"
     }
    },
    "54fa281bde84416e9cf009c49ffb2c85": {
     "model_module": "@jupyter-widgets/controls",
     "model_module_version": "1.5.0",
     "model_name": "DescriptionStyleModel",
     "state": {
      "_model_module": "@jupyter-widgets/controls",
      "_model_module_version": "1.5.0",
      "_model_name": "DescriptionStyleModel",
      "_view_count": null,
      "_view_module": "@jupyter-widgets/base",
      "_view_module_version": "1.2.0",
      "_view_name": "StyleView",
      "description_width": ""
     }
    },
    "57a1765cb4d8487e9935d2ffe9800b53": {
     "model_module": "@jupyter-widgets/controls",
     "model_module_version": "1.5.0",
     "model_name": "HBoxModel",
     "state": {
      "_dom_classes": [],
      "_model_module": "@jupyter-widgets/controls",
      "_model_module_version": "1.5.0",
      "_model_name": "HBoxModel",
      "_view_count": null,
      "_view_module": "@jupyter-widgets/controls",
      "_view_module_version": "1.5.0",
      "_view_name": "HBoxView",
      "box_style": "",
      "children": [
       "IPY_MODEL_c2ffe72b0f544c6fbc1963b8cef40f8a",
       "IPY_MODEL_b8cd046431d4488bb5eacb5e7b070d2e",
       "IPY_MODEL_e1ef5e9fa1a54697bcbcaafdc07f0af4"
      ],
      "layout": "IPY_MODEL_319011b842dd4cdaba7dedf68965331a"
     }
    },
    "5aaa0c6b22b94eec822685c181ddc2f9": {
     "model_module": "@jupyter-widgets/controls",
     "model_module_version": "1.5.0",
     "model_name": "DescriptionStyleModel",
     "state": {
      "_model_module": "@jupyter-widgets/controls",
      "_model_module_version": "1.5.0",
      "_model_name": "DescriptionStyleModel",
      "_view_count": null,
      "_view_module": "@jupyter-widgets/base",
      "_view_module_version": "1.2.0",
      "_view_name": "StyleView",
      "description_width": ""
     }
    },
    "5baeb21666f74088bf310552f579a505": {
     "model_module": "@jupyter-widgets/controls",
     "model_module_version": "1.5.0",
     "model_name": "HTMLModel",
     "state": {
      "_dom_classes": [],
      "_model_module": "@jupyter-widgets/controls",
      "_model_module_version": "1.5.0",
      "_model_name": "HTMLModel",
      "_view_count": null,
      "_view_module": "@jupyter-widgets/controls",
      "_view_module_version": "1.5.0",
      "_view_name": "HTMLView",
      "description": "",
      "description_tooltip": null,
      "layout": "IPY_MODEL_689621e7db584d62b9476ac44e07285a",
      "placeholder": "​",
      "style": "IPY_MODEL_ff9cf361f41d41c498dd4cfb5a916cb4",
      "value": "Downloading pytorch_model.bin: 100%"
     }
    },
    "5c6a41b373fe4d7b921e55b6904f92c8": {
     "model_module": "@jupyter-widgets/controls",
     "model_module_version": "1.5.0",
     "model_name": "HBoxModel",
     "state": {
      "_dom_classes": [],
      "_model_module": "@jupyter-widgets/controls",
      "_model_module_version": "1.5.0",
      "_model_name": "HBoxModel",
      "_view_count": null,
      "_view_module": "@jupyter-widgets/controls",
      "_view_module_version": "1.5.0",
      "_view_name": "HBoxView",
      "box_style": "",
      "children": [
       "IPY_MODEL_0a7f2c5ce52a4902bb91264bb9bde2ab",
       "IPY_MODEL_7d35bc7c55734cdbb9abefbdfa32bab4",
       "IPY_MODEL_ee5ab1f4bb87475392d92907ead4edba"
      ],
      "layout": "IPY_MODEL_efa91f7945a344529c2f7a49624508d9"
     }
    },
    "62096c81facc4b5faa67f469f95014e9": {
     "model_module": "@jupyter-widgets/controls",
     "model_module_version": "1.5.0",
     "model_name": "DescriptionStyleModel",
     "state": {
      "_model_module": "@jupyter-widgets/controls",
      "_model_module_version": "1.5.0",
      "_model_name": "DescriptionStyleModel",
      "_view_count": null,
      "_view_module": "@jupyter-widgets/base",
      "_view_module_version": "1.2.0",
      "_view_name": "StyleView",
      "description_width": ""
     }
    },
    "6279ee4c2c1d437984a8dc65898a67a4": {
     "model_module": "@jupyter-widgets/base",
     "model_module_version": "1.2.0",
     "model_name": "LayoutModel",
     "state": {
      "_model_module": "@jupyter-widgets/base",
      "_model_module_version": "1.2.0",
      "_model_name": "LayoutModel",
      "_view_count": null,
      "_view_module": "@jupyter-widgets/base",
      "_view_module_version": "1.2.0",
      "_view_name": "LayoutView",
      "align_content": null,
      "align_items": null,
      "align_self": null,
      "border": null,
      "bottom": null,
      "display": null,
      "flex": null,
      "flex_flow": null,
      "grid_area": null,
      "grid_auto_columns": null,
      "grid_auto_flow": null,
      "grid_auto_rows": null,
      "grid_column": null,
      "grid_gap": null,
      "grid_row": null,
      "grid_template_areas": null,
      "grid_template_columns": null,
      "grid_template_rows": null,
      "height": null,
      "justify_content": null,
      "justify_items": null,
      "left": null,
      "margin": null,
      "max_height": null,
      "max_width": null,
      "min_height": null,
      "min_width": null,
      "object_fit": null,
      "object_position": null,
      "order": null,
      "overflow": null,
      "overflow_x": null,
      "overflow_y": null,
      "padding": null,
      "right": null,
      "top": null,
      "visibility": null,
      "width": null
     }
    },
    "62aeb90df0a14e6a8f65af43180f82eb": {
     "model_module": "@jupyter-widgets/controls",
     "model_module_version": "1.5.0",
     "model_name": "ProgressStyleModel",
     "state": {
      "_model_module": "@jupyter-widgets/controls",
      "_model_module_version": "1.5.0",
      "_model_name": "ProgressStyleModel",
      "_view_count": null,
      "_view_module": "@jupyter-widgets/base",
      "_view_module_version": "1.2.0",
      "_view_name": "StyleView",
      "bar_color": null,
      "description_width": ""
     }
    },
    "66297fd8f72144e8a6a5df2f3dc42fee": {
     "model_module": "@jupyter-widgets/controls",
     "model_module_version": "1.5.0",
     "model_name": "DescriptionStyleModel",
     "state": {
      "_model_module": "@jupyter-widgets/controls",
      "_model_module_version": "1.5.0",
      "_model_name": "DescriptionStyleModel",
      "_view_count": null,
      "_view_module": "@jupyter-widgets/base",
      "_view_module_version": "1.2.0",
      "_view_name": "StyleView",
      "description_width": ""
     }
    },
    "6683e412cc38476bb498a64edfd54671": {
     "model_module": "@jupyter-widgets/controls",
     "model_module_version": "1.5.0",
     "model_name": "ProgressStyleModel",
     "state": {
      "_model_module": "@jupyter-widgets/controls",
      "_model_module_version": "1.5.0",
      "_model_name": "ProgressStyleModel",
      "_view_count": null,
      "_view_module": "@jupyter-widgets/base",
      "_view_module_version": "1.2.0",
      "_view_name": "StyleView",
      "bar_color": null,
      "description_width": ""
     }
    },
    "66f064d1fe6e4797bafc7e646d5307f6": {
     "model_module": "@jupyter-widgets/base",
     "model_module_version": "1.2.0",
     "model_name": "LayoutModel",
     "state": {
      "_model_module": "@jupyter-widgets/base",
      "_model_module_version": "1.2.0",
      "_model_name": "LayoutModel",
      "_view_count": null,
      "_view_module": "@jupyter-widgets/base",
      "_view_module_version": "1.2.0",
      "_view_name": "LayoutView",
      "align_content": null,
      "align_items": null,
      "align_self": null,
      "border": null,
      "bottom": null,
      "display": null,
      "flex": null,
      "flex_flow": null,
      "grid_area": null,
      "grid_auto_columns": null,
      "grid_auto_flow": null,
      "grid_auto_rows": null,
      "grid_column": null,
      "grid_gap": null,
      "grid_row": null,
      "grid_template_areas": null,
      "grid_template_columns": null,
      "grid_template_rows": null,
      "height": null,
      "justify_content": null,
      "justify_items": null,
      "left": null,
      "margin": null,
      "max_height": null,
      "max_width": null,
      "min_height": null,
      "min_width": null,
      "object_fit": null,
      "object_position": null,
      "order": null,
      "overflow": null,
      "overflow_x": null,
      "overflow_y": null,
      "padding": null,
      "right": null,
      "top": null,
      "visibility": null,
      "width": null
     }
    },
    "67e1491e959e48cba18d576ae1ec93ff": {
     "model_module": "@jupyter-widgets/base",
     "model_module_version": "1.2.0",
     "model_name": "LayoutModel",
     "state": {
      "_model_module": "@jupyter-widgets/base",
      "_model_module_version": "1.2.0",
      "_model_name": "LayoutModel",
      "_view_count": null,
      "_view_module": "@jupyter-widgets/base",
      "_view_module_version": "1.2.0",
      "_view_name": "LayoutView",
      "align_content": null,
      "align_items": null,
      "align_self": null,
      "border": null,
      "bottom": null,
      "display": null,
      "flex": null,
      "flex_flow": null,
      "grid_area": null,
      "grid_auto_columns": null,
      "grid_auto_flow": null,
      "grid_auto_rows": null,
      "grid_column": null,
      "grid_gap": null,
      "grid_row": null,
      "grid_template_areas": null,
      "grid_template_columns": null,
      "grid_template_rows": null,
      "height": null,
      "justify_content": null,
      "justify_items": null,
      "left": null,
      "margin": null,
      "max_height": null,
      "max_width": null,
      "min_height": null,
      "min_width": null,
      "object_fit": null,
      "object_position": null,
      "order": null,
      "overflow": null,
      "overflow_x": null,
      "overflow_y": null,
      "padding": null,
      "right": null,
      "top": null,
      "visibility": null,
      "width": null
     }
    },
    "689621e7db584d62b9476ac44e07285a": {
     "model_module": "@jupyter-widgets/base",
     "model_module_version": "1.2.0",
     "model_name": "LayoutModel",
     "state": {
      "_model_module": "@jupyter-widgets/base",
      "_model_module_version": "1.2.0",
      "_model_name": "LayoutModel",
      "_view_count": null,
      "_view_module": "@jupyter-widgets/base",
      "_view_module_version": "1.2.0",
      "_view_name": "LayoutView",
      "align_content": null,
      "align_items": null,
      "align_self": null,
      "border": null,
      "bottom": null,
      "display": null,
      "flex": null,
      "flex_flow": null,
      "grid_area": null,
      "grid_auto_columns": null,
      "grid_auto_flow": null,
      "grid_auto_rows": null,
      "grid_column": null,
      "grid_gap": null,
      "grid_row": null,
      "grid_template_areas": null,
      "grid_template_columns": null,
      "grid_template_rows": null,
      "height": null,
      "justify_content": null,
      "justify_items": null,
      "left": null,
      "margin": null,
      "max_height": null,
      "max_width": null,
      "min_height": null,
      "min_width": null,
      "object_fit": null,
      "object_position": null,
      "order": null,
      "overflow": null,
      "overflow_x": null,
      "overflow_y": null,
      "padding": null,
      "right": null,
      "top": null,
      "visibility": null,
      "width": null
     }
    },
    "6cdff1c38a184efc9ddbde78afcbe61f": {
     "model_module": "@jupyter-widgets/controls",
     "model_module_version": "1.5.0",
     "model_name": "DescriptionStyleModel",
     "state": {
      "_model_module": "@jupyter-widgets/controls",
      "_model_module_version": "1.5.0",
      "_model_name": "DescriptionStyleModel",
      "_view_count": null,
      "_view_module": "@jupyter-widgets/base",
      "_view_module_version": "1.2.0",
      "_view_name": "StyleView",
      "description_width": ""
     }
    },
    "6cf4cf1069ca42fba1045da1d1758e96": {
     "model_module": "@jupyter-widgets/base",
     "model_module_version": "1.2.0",
     "model_name": "LayoutModel",
     "state": {
      "_model_module": "@jupyter-widgets/base",
      "_model_module_version": "1.2.0",
      "_model_name": "LayoutModel",
      "_view_count": null,
      "_view_module": "@jupyter-widgets/base",
      "_view_module_version": "1.2.0",
      "_view_name": "LayoutView",
      "align_content": null,
      "align_items": null,
      "align_self": null,
      "border": null,
      "bottom": null,
      "display": null,
      "flex": null,
      "flex_flow": null,
      "grid_area": null,
      "grid_auto_columns": null,
      "grid_auto_flow": null,
      "grid_auto_rows": null,
      "grid_column": null,
      "grid_gap": null,
      "grid_row": null,
      "grid_template_areas": null,
      "grid_template_columns": null,
      "grid_template_rows": null,
      "height": null,
      "justify_content": null,
      "justify_items": null,
      "left": null,
      "margin": null,
      "max_height": null,
      "max_width": null,
      "min_height": null,
      "min_width": null,
      "object_fit": null,
      "object_position": null,
      "order": null,
      "overflow": null,
      "overflow_x": null,
      "overflow_y": null,
      "padding": null,
      "right": null,
      "top": null,
      "visibility": null,
      "width": null
     }
    },
    "6e4db1f83a8a4fed8b93f8606419e784": {
     "model_module": "@jupyter-widgets/base",
     "model_module_version": "1.2.0",
     "model_name": "LayoutModel",
     "state": {
      "_model_module": "@jupyter-widgets/base",
      "_model_module_version": "1.2.0",
      "_model_name": "LayoutModel",
      "_view_count": null,
      "_view_module": "@jupyter-widgets/base",
      "_view_module_version": "1.2.0",
      "_view_name": "LayoutView",
      "align_content": null,
      "align_items": null,
      "align_self": null,
      "border": null,
      "bottom": null,
      "display": null,
      "flex": null,
      "flex_flow": null,
      "grid_area": null,
      "grid_auto_columns": null,
      "grid_auto_flow": null,
      "grid_auto_rows": null,
      "grid_column": null,
      "grid_gap": null,
      "grid_row": null,
      "grid_template_areas": null,
      "grid_template_columns": null,
      "grid_template_rows": null,
      "height": null,
      "justify_content": null,
      "justify_items": null,
      "left": null,
      "margin": null,
      "max_height": null,
      "max_width": null,
      "min_height": null,
      "min_width": null,
      "object_fit": null,
      "object_position": null,
      "order": null,
      "overflow": null,
      "overflow_x": null,
      "overflow_y": null,
      "padding": null,
      "right": null,
      "top": null,
      "visibility": null,
      "width": null
     }
    },
    "6ed758f4f3fa460c98406f8bd028663f": {
     "model_module": "@jupyter-widgets/controls",
     "model_module_version": "1.5.0",
     "model_name": "FloatProgressModel",
     "state": {
      "_dom_classes": [],
      "_model_module": "@jupyter-widgets/controls",
      "_model_module_version": "1.5.0",
      "_model_name": "FloatProgressModel",
      "_view_count": null,
      "_view_module": "@jupyter-widgets/controls",
      "_view_module_version": "1.5.0",
      "_view_name": "ProgressView",
      "bar_style": "success",
      "description": "",
      "description_tooltip": null,
      "layout": "IPY_MODEL_d8db4f5b5d1b44de9b9992a64bf6e2bd",
      "max": 4963705019,
      "min": 0,
      "orientation": "horizontal",
      "style": "IPY_MODEL_41d1b1272b7e43b0a4b4a5245d4bfa5e",
      "value": 4963705019
     }
    },
    "7066f7af119b4643bda01f6d0dab0a99": {
     "model_module": "@jupyter-widgets/controls",
     "model_module_version": "1.5.0",
     "model_name": "DescriptionStyleModel",
     "state": {
      "_model_module": "@jupyter-widgets/controls",
      "_model_module_version": "1.5.0",
      "_model_name": "DescriptionStyleModel",
      "_view_count": null,
      "_view_module": "@jupyter-widgets/base",
      "_view_module_version": "1.2.0",
      "_view_name": "StyleView",
      "description_width": ""
     }
    },
    "71ee113c156b42cfba43e0b74bded846": {
     "model_module": "@jupyter-widgets/controls",
     "model_module_version": "1.5.0",
     "model_name": "FloatProgressModel",
     "state": {
      "_dom_classes": [],
      "_model_module": "@jupyter-widgets/controls",
      "_model_module_version": "1.5.0",
      "_model_name": "FloatProgressModel",
      "_view_count": null,
      "_view_module": "@jupyter-widgets/controls",
      "_view_module_version": "1.5.0",
      "_view_name": "ProgressView",
      "bar_style": "success",
      "description": "",
      "description_tooltip": null,
      "layout": "IPY_MODEL_bfba22566e6a4bceb65ca136daaf680e",
      "max": 270,
      "min": 0,
      "orientation": "horizontal",
      "style": "IPY_MODEL_35fc1a69a9b54fa0922c3a64513e127c",
      "value": 270
     }
    },
    "7280c916de9e4469afe10f66c41e8f40": {
     "model_module": "@jupyter-widgets/controls",
     "model_module_version": "1.5.0",
     "model_name": "HTMLModel",
     "state": {
      "_dom_classes": [],
      "_model_module": "@jupyter-widgets/controls",
      "_model_module_version": "1.5.0",
      "_model_name": "HTMLModel",
      "_view_count": null,
      "_view_module": "@jupyter-widgets/controls",
      "_view_module_version": "1.5.0",
      "_view_name": "HTMLView",
      "description": "",
      "description_tooltip": null,
      "layout": "IPY_MODEL_f91df6565d144e0eaca1441fa57862ae",
      "placeholder": "​",
      "style": "IPY_MODEL_2216bc5eefbc4d8db02294fbff54954e",
      "value": " 3.15M/3.15M [00:00&lt;00:00, 34.5MB/s]"
     }
    },
    "754d2bc093f24d999cfa5ef975183465": {
     "model_module": "@jupyter-widgets/base",
     "model_module_version": "1.2.0",
     "model_name": "LayoutModel",
     "state": {
      "_model_module": "@jupyter-widgets/base",
      "_model_module_version": "1.2.0",
      "_model_name": "LayoutModel",
      "_view_count": null,
      "_view_module": "@jupyter-widgets/base",
      "_view_module_version": "1.2.0",
      "_view_name": "LayoutView",
      "align_content": null,
      "align_items": null,
      "align_self": null,
      "border": null,
      "bottom": null,
      "display": null,
      "flex": null,
      "flex_flow": null,
      "grid_area": null,
      "grid_auto_columns": null,
      "grid_auto_flow": null,
      "grid_auto_rows": null,
      "grid_column": null,
      "grid_gap": null,
      "grid_row": null,
      "grid_template_areas": null,
      "grid_template_columns": null,
      "grid_template_rows": null,
      "height": null,
      "justify_content": null,
      "justify_items": null,
      "left": null,
      "margin": null,
      "max_height": null,
      "max_width": null,
      "min_height": null,
      "min_width": null,
      "object_fit": null,
      "object_position": null,
      "order": null,
      "overflow": null,
      "overflow_x": null,
      "overflow_y": null,
      "padding": null,
      "right": null,
      "top": null,
      "visibility": null,
      "width": null
     }
    },
    "75635ee6b9a54fc8a40bebf59871a466": {
     "model_module": "@jupyter-widgets/controls",
     "model_module_version": "1.5.0",
     "model_name": "HTMLModel",
     "state": {
      "_dom_classes": [],
      "_model_module": "@jupyter-widgets/controls",
      "_model_module_version": "1.5.0",
      "_model_name": "HTMLModel",
      "_view_count": null,
      "_view_module": "@jupyter-widgets/controls",
      "_view_module_version": "1.5.0",
      "_view_name": "HTMLView",
      "description": "",
      "description_tooltip": null,
      "layout": "IPY_MODEL_3e6c2767cb73418e8cc8a1c24c8490a1",
      "placeholder": "​",
      "style": "IPY_MODEL_d2e90a3c5e4f4d519401f9cc6e44c537",
      "value": "Downloading (…)nce_bert_config.json: 100%"
     }
    },
    "7a31eb9911e0412b8bf7faa2ab9a06c9": {
     "model_module": "@jupyter-widgets/controls",
     "model_module_version": "1.5.0",
     "model_name": "HTMLModel",
     "state": {
      "_dom_classes": [],
      "_model_module": "@jupyter-widgets/controls",
      "_model_module_version": "1.5.0",
      "_model_name": "HTMLModel",
      "_view_count": null,
      "_view_module": "@jupyter-widgets/controls",
      "_view_module_version": "1.5.0",
      "_view_name": "HTMLView",
      "description": "",
      "description_tooltip": null,
      "layout": "IPY_MODEL_e42b9f5da83e4c838659df9b9d0fcb18",
      "placeholder": "​",
      "style": "IPY_MODEL_5aaa0c6b22b94eec822685c181ddc2f9",
      "value": "Downloading (…)_Pooling/config.json: 100%"
     }
    },
    "7a56686664fa449a94085332f8c8c543": {
     "model_module": "@jupyter-widgets/controls",
     "model_module_version": "1.5.0",
     "model_name": "HBoxModel",
     "state": {
      "_dom_classes": [],
      "_model_module": "@jupyter-widgets/controls",
      "_model_module_version": "1.5.0",
      "_model_name": "HBoxModel",
      "_view_count": null,
      "_view_module": "@jupyter-widgets/controls",
      "_view_module_version": "1.5.0",
      "_view_name": "HBoxView",
      "box_style": "",
      "children": [
       "IPY_MODEL_4c24c30b6b3a4f63b4335ca66019813c",
       "IPY_MODEL_95dae69e0efd496a8800da7e65794a70",
       "IPY_MODEL_1c7b816fdb524395a4a9ed6ea6a0dd8d"
      ],
      "layout": "IPY_MODEL_b8fccbca04a54f819f28eae568883d80"
     }
    },
    "7a67306d673b4e56b3c680a3fe269b84": {
     "model_module": "@jupyter-widgets/base",
     "model_module_version": "1.2.0",
     "model_name": "LayoutModel",
     "state": {
      "_model_module": "@jupyter-widgets/base",
      "_model_module_version": "1.2.0",
      "_model_name": "LayoutModel",
      "_view_count": null,
      "_view_module": "@jupyter-widgets/base",
      "_view_module_version": "1.2.0",
      "_view_name": "LayoutView",
      "align_content": null,
      "align_items": null,
      "align_self": null,
      "border": null,
      "bottom": null,
      "display": null,
      "flex": null,
      "flex_flow": null,
      "grid_area": null,
      "grid_auto_columns": null,
      "grid_auto_flow": null,
      "grid_auto_rows": null,
      "grid_column": null,
      "grid_gap": null,
      "grid_row": null,
      "grid_template_areas": null,
      "grid_template_columns": null,
      "grid_template_rows": null,
      "height": null,
      "justify_content": null,
      "justify_items": null,
      "left": null,
      "margin": null,
      "max_height": null,
      "max_width": null,
      "min_height": null,
      "min_width": null,
      "object_fit": null,
      "object_position": null,
      "order": null,
      "overflow": null,
      "overflow_x": null,
      "overflow_y": null,
      "padding": null,
      "right": null,
      "top": null,
      "visibility": null,
      "width": null
     }
    },
    "7a782e26d4d3426f965f1de514ef1b6c": {
     "model_module": "@jupyter-widgets/controls",
     "model_module_version": "1.5.0",
     "model_name": "DescriptionStyleModel",
     "state": {
      "_model_module": "@jupyter-widgets/controls",
      "_model_module_version": "1.5.0",
      "_model_name": "DescriptionStyleModel",
      "_view_count": null,
      "_view_module": "@jupyter-widgets/base",
      "_view_module_version": "1.2.0",
      "_view_name": "StyleView",
      "description_width": ""
     }
    },
    "7bc89b57d0404f2d86a734c52211656a": {
     "model_module": "@jupyter-widgets/base",
     "model_module_version": "1.2.0",
     "model_name": "LayoutModel",
     "state": {
      "_model_module": "@jupyter-widgets/base",
      "_model_module_version": "1.2.0",
      "_model_name": "LayoutModel",
      "_view_count": null,
      "_view_module": "@jupyter-widgets/base",
      "_view_module_version": "1.2.0",
      "_view_name": "LayoutView",
      "align_content": null,
      "align_items": null,
      "align_self": null,
      "border": null,
      "bottom": null,
      "display": null,
      "flex": null,
      "flex_flow": null,
      "grid_area": null,
      "grid_auto_columns": null,
      "grid_auto_flow": null,
      "grid_auto_rows": null,
      "grid_column": null,
      "grid_gap": null,
      "grid_row": null,
      "grid_template_areas": null,
      "grid_template_columns": null,
      "grid_template_rows": null,
      "height": null,
      "justify_content": null,
      "justify_items": null,
      "left": null,
      "margin": null,
      "max_height": null,
      "max_width": null,
      "min_height": null,
      "min_width": null,
      "object_fit": null,
      "object_position": null,
      "order": null,
      "overflow": null,
      "overflow_x": null,
      "overflow_y": null,
      "padding": null,
      "right": null,
      "top": null,
      "visibility": null,
      "width": null
     }
    },
    "7d35bc7c55734cdbb9abefbdfa32bab4": {
     "model_module": "@jupyter-widgets/controls",
     "model_module_version": "1.5.0",
     "model_name": "FloatProgressModel",
     "state": {
      "_dom_classes": [],
      "_model_module": "@jupyter-widgets/controls",
      "_model_module_version": "1.5.0",
      "_model_name": "FloatProgressModel",
      "_view_count": null,
      "_view_module": "@jupyter-widgets/controls",
      "_view_module_version": "1.5.0",
      "_view_name": "ProgressView",
      "bar_style": "success",
      "description": "",
      "description_tooltip": null,
      "layout": "IPY_MODEL_c98f0ffed6114f3ea16df7d1df00dacb",
      "max": 116,
      "min": 0,
      "orientation": "horizontal",
      "style": "IPY_MODEL_26493f3091e14594865440626bfb32d9",
      "value": 116
     }
    },
    "7e703e2e6a504bc492aef3151caf99e2": {
     "model_module": "@jupyter-widgets/controls",
     "model_module_version": "1.5.0",
     "model_name": "FloatProgressModel",
     "state": {
      "_dom_classes": [],
      "_model_module": "@jupyter-widgets/controls",
      "_model_module_version": "1.5.0",
      "_model_name": "FloatProgressModel",
      "_view_count": null,
      "_view_module": "@jupyter-widgets/controls",
      "_view_module_version": "1.5.0",
      "_view_name": "ProgressView",
      "bar_style": "success",
      "description": "",
      "description_tooltip": null,
      "layout": "IPY_MODEL_f9201edf425c4a4b89cfb4af724a653c",
      "max": 53,
      "min": 0,
      "orientation": "horizontal",
      "style": "IPY_MODEL_62aeb90df0a14e6a8f65af43180f82eb",
      "value": 53
     }
    },
    "8252ce9b760b4fcca1de9ee73e6ce5a2": {
     "model_module": "@jupyter-widgets/base",
     "model_module_version": "1.2.0",
     "model_name": "LayoutModel",
     "state": {
      "_model_module": "@jupyter-widgets/base",
      "_model_module_version": "1.2.0",
      "_model_name": "LayoutModel",
      "_view_count": null,
      "_view_module": "@jupyter-widgets/base",
      "_view_module_version": "1.2.0",
      "_view_name": "LayoutView",
      "align_content": null,
      "align_items": null,
      "align_self": null,
      "border": null,
      "bottom": null,
      "display": null,
      "flex": null,
      "flex_flow": null,
      "grid_area": null,
      "grid_auto_columns": null,
      "grid_auto_flow": null,
      "grid_auto_rows": null,
      "grid_column": null,
      "grid_gap": null,
      "grid_row": null,
      "grid_template_areas": null,
      "grid_template_columns": null,
      "grid_template_rows": null,
      "height": null,
      "justify_content": null,
      "justify_items": null,
      "left": null,
      "margin": null,
      "max_height": null,
      "max_width": null,
      "min_height": null,
      "min_width": null,
      "object_fit": null,
      "object_position": null,
      "order": null,
      "overflow": null,
      "overflow_x": null,
      "overflow_y": null,
      "padding": null,
      "right": null,
      "top": null,
      "visibility": null,
      "width": null
     }
    },
    "8344e32abe2a40aea5474ce973428012": {
     "model_module": "@jupyter-widgets/controls",
     "model_module_version": "1.5.0",
     "model_name": "DescriptionStyleModel",
     "state": {
      "_model_module": "@jupyter-widgets/controls",
      "_model_module_version": "1.5.0",
      "_model_name": "DescriptionStyleModel",
      "_view_count": null,
      "_view_module": "@jupyter-widgets/base",
      "_view_module_version": "1.2.0",
      "_view_name": "StyleView",
      "description_width": ""
     }
    },
    "8518c224b2b54cbca48002d2157c7eae": {
     "model_module": "@jupyter-widgets/base",
     "model_module_version": "1.2.0",
     "model_name": "LayoutModel",
     "state": {
      "_model_module": "@jupyter-widgets/base",
      "_model_module_version": "1.2.0",
      "_model_name": "LayoutModel",
      "_view_count": null,
      "_view_module": "@jupyter-widgets/base",
      "_view_module_version": "1.2.0",
      "_view_name": "LayoutView",
      "align_content": null,
      "align_items": null,
      "align_self": null,
      "border": null,
      "bottom": null,
      "display": null,
      "flex": null,
      "flex_flow": null,
      "grid_area": null,
      "grid_auto_columns": null,
      "grid_auto_flow": null,
      "grid_auto_rows": null,
      "grid_column": null,
      "grid_gap": null,
      "grid_row": null,
      "grid_template_areas": null,
      "grid_template_columns": null,
      "grid_template_rows": null,
      "height": null,
      "justify_content": null,
      "justify_items": null,
      "left": null,
      "margin": null,
      "max_height": null,
      "max_width": null,
      "min_height": null,
      "min_width": null,
      "object_fit": null,
      "object_position": null,
      "order": null,
      "overflow": null,
      "overflow_x": null,
      "overflow_y": null,
      "padding": null,
      "right": null,
      "top": null,
      "visibility": null,
      "width": null
     }
    },
    "856f624b6023498bac1e7c3aa901c44b": {
     "model_module": "@jupyter-widgets/controls",
     "model_module_version": "1.5.0",
     "model_name": "HTMLModel",
     "state": {
      "_dom_classes": [],
      "_model_module": "@jupyter-widgets/controls",
      "_model_module_version": "1.5.0",
      "_model_name": "HTMLModel",
      "_view_count": null,
      "_view_module": "@jupyter-widgets/controls",
      "_view_module_version": "1.5.0",
      "_view_name": "HTMLView",
      "description": "",
      "description_tooltip": null,
      "layout": "IPY_MODEL_3f45a7588bac43aa83e31c8670b8f567",
      "placeholder": "​",
      "style": "IPY_MODEL_d6e08317854c47a58d860d693f242223",
      "value": " 1.48k/1.48k [00:00&lt;00:00, 44.9kB/s]"
     }
    },
    "86d58b2f2133400695c92cea61a042b1": {
     "model_module": "@jupyter-widgets/controls",
     "model_module_version": "1.5.0",
     "model_name": "HTMLModel",
     "state": {
      "_dom_classes": [],
      "_model_module": "@jupyter-widgets/controls",
      "_model_module_version": "1.5.0",
      "_model_name": "HTMLModel",
      "_view_count": null,
      "_view_module": "@jupyter-widgets/controls",
      "_view_module_version": "1.5.0",
      "_view_name": "HTMLView",
      "description": "",
      "description_tooltip": null,
      "layout": "IPY_MODEL_dbc9fb4995e9429980c361ccf40a5a40",
      "placeholder": "​",
      "style": "IPY_MODEL_6cdff1c38a184efc9ddbde78afcbe61f",
      "value": " 792k/792k [00:00&lt;00:00, 4.23MB/s]"
     }
    },
    "877f0cc270c64f97aed947e39c7c40c5": {
     "model_module": "@jupyter-widgets/controls",
     "model_module_version": "1.5.0",
     "model_name": "ProgressStyleModel",
     "state": {
      "_model_module": "@jupyter-widgets/controls",
      "_model_module_version": "1.5.0",
      "_model_name": "ProgressStyleModel",
      "_view_count": null,
      "_view_module": "@jupyter-widgets/base",
      "_view_module_version": "1.2.0",
      "_view_name": "StyleView",
      "bar_color": null,
      "description_width": ""
     }
    },
    "8b536931d3964396895bcdf9b32b9580": {
     "model_module": "@jupyter-widgets/controls",
     "model_module_version": "1.5.0",
     "model_name": "HTMLModel",
     "state": {
      "_dom_classes": [],
      "_model_module": "@jupyter-widgets/controls",
      "_model_module_version": "1.5.0",
      "_model_name": "HTMLModel",
      "_view_count": null,
      "_view_module": "@jupyter-widgets/controls",
      "_view_module_version": "1.5.0",
      "_view_name": "HTMLView",
      "description": "",
      "description_tooltip": null,
      "layout": "IPY_MODEL_2c1a12ee9bd94114bc92b42ab03b3b46",
      "placeholder": "​",
      "style": "IPY_MODEL_92230e3582124bc98c3b64f9b31d8c43",
      "value": " 66.3k/66.3k [00:00&lt;00:00, 2.58MB/s]"
     }
    },
    "8c3e41613d4a4d08b4d77736feaf3e99": {
     "model_module": "@jupyter-widgets/base",
     "model_module_version": "1.2.0",
     "model_name": "LayoutModel",
     "state": {
      "_model_module": "@jupyter-widgets/base",
      "_model_module_version": "1.2.0",
      "_model_name": "LayoutModel",
      "_view_count": null,
      "_view_module": "@jupyter-widgets/base",
      "_view_module_version": "1.2.0",
      "_view_name": "LayoutView",
      "align_content": null,
      "align_items": null,
      "align_self": null,
      "border": null,
      "bottom": null,
      "display": null,
      "flex": null,
      "flex_flow": null,
      "grid_area": null,
      "grid_auto_columns": null,
      "grid_auto_flow": null,
      "grid_auto_rows": null,
      "grid_column": null,
      "grid_gap": null,
      "grid_row": null,
      "grid_template_areas": null,
      "grid_template_columns": null,
      "grid_template_rows": null,
      "height": null,
      "justify_content": null,
      "justify_items": null,
      "left": null,
      "margin": null,
      "max_height": null,
      "max_width": null,
      "min_height": null,
      "min_width": null,
      "object_fit": null,
      "object_position": null,
      "order": null,
      "overflow": null,
      "overflow_x": null,
      "overflow_y": null,
      "padding": null,
      "right": null,
      "top": null,
      "visibility": null,
      "width": null
     }
    },
    "8f30e795997b452f9799f6f4794ce194": {
     "model_module": "@jupyter-widgets/base",
     "model_module_version": "1.2.0",
     "model_name": "LayoutModel",
     "state": {
      "_model_module": "@jupyter-widgets/base",
      "_model_module_version": "1.2.0",
      "_model_name": "LayoutModel",
      "_view_count": null,
      "_view_module": "@jupyter-widgets/base",
      "_view_module_version": "1.2.0",
      "_view_name": "LayoutView",
      "align_content": null,
      "align_items": null,
      "align_self": null,
      "border": null,
      "bottom": null,
      "display": null,
      "flex": null,
      "flex_flow": null,
      "grid_area": null,
      "grid_auto_columns": null,
      "grid_auto_flow": null,
      "grid_auto_rows": null,
      "grid_column": null,
      "grid_gap": null,
      "grid_row": null,
      "grid_template_areas": null,
      "grid_template_columns": null,
      "grid_template_rows": null,
      "height": null,
      "justify_content": null,
      "justify_items": null,
      "left": null,
      "margin": null,
      "max_height": null,
      "max_width": null,
      "min_height": null,
      "min_width": null,
      "object_fit": null,
      "object_position": null,
      "order": null,
      "overflow": null,
      "overflow_x": null,
      "overflow_y": null,
      "padding": null,
      "right": null,
      "top": null,
      "visibility": null,
      "width": null
     }
    },
    "92230e3582124bc98c3b64f9b31d8c43": {
     "model_module": "@jupyter-widgets/controls",
     "model_module_version": "1.5.0",
     "model_name": "DescriptionStyleModel",
     "state": {
      "_model_module": "@jupyter-widgets/controls",
      "_model_module_version": "1.5.0",
      "_model_name": "DescriptionStyleModel",
      "_view_count": null,
      "_view_module": "@jupyter-widgets/base",
      "_view_module_version": "1.2.0",
      "_view_name": "StyleView",
      "description_width": ""
     }
    },
    "9427eb1477a74803bccbb2fbb8667449": {
     "model_module": "@jupyter-widgets/controls",
     "model_module_version": "1.5.0",
     "model_name": "HTMLModel",
     "state": {
      "_dom_classes": [],
      "_model_module": "@jupyter-widgets/controls",
      "_model_module_version": "1.5.0",
      "_model_name": "HTMLModel",
      "_view_count": null,
      "_view_module": "@jupyter-widgets/controls",
      "_view_module_version": "1.5.0",
      "_view_name": "HTMLView",
      "description": "",
      "description_tooltip": null,
      "layout": "IPY_MODEL_8f30e795997b452f9799f6f4794ce194",
      "placeholder": "​",
      "style": "IPY_MODEL_e4dbc6740555484183f8aedc353f9c75",
      "value": "Downloading (…)7f436/tokenizer.json: 100%"
     }
    },
    "94cd4844bef64170965cbec7fbeab079": {
     "model_module": "@jupyter-widgets/controls",
     "model_module_version": "1.5.0",
     "model_name": "FloatProgressModel",
     "state": {
      "_dom_classes": [],
      "_model_module": "@jupyter-widgets/controls",
      "_model_module_version": "1.5.0",
      "_model_name": "FloatProgressModel",
      "_view_count": null,
      "_view_module": "@jupyter-widgets/controls",
      "_view_module_version": "1.5.0",
      "_view_name": "ProgressView",
      "bar_style": "success",
      "description": "",
      "description_tooltip": null,
      "layout": "IPY_MODEL_8252ce9b760b4fcca1de9ee73e6ce5a2",
      "max": 2422360,
      "min": 0,
      "orientation": "horizontal",
      "style": "IPY_MODEL_d2dc24688c2244d08077fa90ba2b1e77",
      "value": 2422360
     }
    },
    "952e6163652c409da15c41ac5feb5c39": {
     "model_module": "@jupyter-widgets/controls",
     "model_module_version": "1.5.0",
     "model_name": "DescriptionStyleModel",
     "state": {
      "_model_module": "@jupyter-widgets/controls",
      "_model_module_version": "1.5.0",
      "_model_name": "DescriptionStyleModel",
      "_view_count": null,
      "_view_module": "@jupyter-widgets/base",
      "_view_module_version": "1.2.0",
      "_view_name": "StyleView",
      "description_width": ""
     }
    },
    "95dae69e0efd496a8800da7e65794a70": {
     "model_module": "@jupyter-widgets/controls",
     "model_module_version": "1.5.0",
     "model_name": "FloatProgressModel",
     "state": {
      "_dom_classes": [],
      "_model_module": "@jupyter-widgets/controls",
      "_model_module_version": "1.5.0",
      "_model_name": "FloatProgressModel",
      "_view_count": null,
      "_view_module": "@jupyter-widgets/controls",
      "_view_module_version": "1.5.0",
      "_view_name": "ProgressView",
      "bar_style": "success",
      "description": "",
      "description_tooltip": null,
      "layout": "IPY_MODEL_b7b6750b5f734b709bfd62f8b35f4246",
      "max": 1521,
      "min": 0,
      "orientation": "horizontal",
      "style": "IPY_MODEL_ca9bfc47af4946faa192e36af53faab6",
      "value": 1521
     }
    },
    "96c547c4317b47b6a6dcd63496af3baf": {
     "model_module": "@jupyter-widgets/base",
     "model_module_version": "1.2.0",
     "model_name": "LayoutModel",
     "state": {
      "_model_module": "@jupyter-widgets/base",
      "_model_module_version": "1.2.0",
      "_model_name": "LayoutModel",
      "_view_count": null,
      "_view_module": "@jupyter-widgets/base",
      "_view_module_version": "1.2.0",
      "_view_name": "LayoutView",
      "align_content": null,
      "align_items": null,
      "align_self": null,
      "border": null,
      "bottom": null,
      "display": null,
      "flex": null,
      "flex_flow": null,
      "grid_area": null,
      "grid_auto_columns": null,
      "grid_auto_flow": null,
      "grid_auto_rows": null,
      "grid_column": null,
      "grid_gap": null,
      "grid_row": null,
      "grid_template_areas": null,
      "grid_template_columns": null,
      "grid_template_rows": null,
      "height": null,
      "justify_content": null,
      "justify_items": null,
      "left": null,
      "margin": null,
      "max_height": null,
      "max_width": null,
      "min_height": null,
      "min_width": null,
      "object_fit": null,
      "object_position": null,
      "order": null,
      "overflow": null,
      "overflow_x": null,
      "overflow_y": null,
      "padding": null,
      "right": null,
      "top": null,
      "visibility": null,
      "width": null
     }
    },
    "99d171be44e144319ed91554f060d989": {
     "model_module": "@jupyter-widgets/controls",
     "model_module_version": "1.5.0",
     "model_name": "HBoxModel",
     "state": {
      "_dom_classes": [],
      "_model_module": "@jupyter-widgets/controls",
      "_model_module_version": "1.5.0",
      "_model_name": "HBoxModel",
      "_view_count": null,
      "_view_module": "@jupyter-widgets/controls",
      "_view_module_version": "1.5.0",
      "_view_name": "HBoxView",
      "box_style": "",
      "children": [
       "IPY_MODEL_3880910bc4ae49978e53634f5e0ba81a",
       "IPY_MODEL_6ed758f4f3fa460c98406f8bd028663f",
       "IPY_MODEL_c150345e9964491daeb65f5a86160df3"
      ],
      "layout": "IPY_MODEL_b92961066e8e47528db02ea71796f35f"
     }
    },
    "99f5bbd4274f48049185208e5ae588c1": {
     "model_module": "@jupyter-widgets/controls",
     "model_module_version": "1.5.0",
     "model_name": "FloatProgressModel",
     "state": {
      "_dom_classes": [],
      "_model_module": "@jupyter-widgets/controls",
      "_model_module_version": "1.5.0",
      "_model_name": "FloatProgressModel",
      "_view_count": null,
      "_view_module": "@jupyter-widgets/controls",
      "_view_module_version": "1.5.0",
      "_view_name": "ProgressView",
      "bar_style": "success",
      "description": "",
      "description_tooltip": null,
      "layout": "IPY_MODEL_1b4776d87e9148deb26b0653b17540f1",
      "max": 122,
      "min": 0,
      "orientation": "horizontal",
      "style": "IPY_MODEL_877f0cc270c64f97aed947e39c7c40c5",
      "value": 122
     }
    },
    "9a87aedc41bd490e90d685cd169b18da": {
     "model_module": "@jupyter-widgets/controls",
     "model_module_version": "1.5.0",
     "model_name": "ProgressStyleModel",
     "state": {
      "_model_module": "@jupyter-widgets/controls",
      "_model_module_version": "1.5.0",
      "_model_name": "ProgressStyleModel",
      "_view_count": null,
      "_view_module": "@jupyter-widgets/base",
      "_view_module_version": "1.2.0",
      "_view_name": "StyleView",
      "bar_color": null,
      "description_width": ""
     }
    },
    "9b1418b781f140ccab9ba79164853417": {
     "model_module": "@jupyter-widgets/controls",
     "model_module_version": "1.5.0",
     "model_name": "HBoxModel",
     "state": {
      "_dom_classes": [],
      "_model_module": "@jupyter-widgets/controls",
      "_model_module_version": "1.5.0",
      "_model_name": "HBoxModel",
      "_view_count": null,
      "_view_module": "@jupyter-widgets/controls",
      "_view_module_version": "1.5.0",
      "_view_name": "HBoxView",
      "box_style": "",
      "children": [
       "IPY_MODEL_31b0ee343c9a447f9a220c9841980b09",
       "IPY_MODEL_336619ff630c4cc4aa7972801c9e7074",
       "IPY_MODEL_8b536931d3964396895bcdf9b32b9580"
      ],
      "layout": "IPY_MODEL_66f064d1fe6e4797bafc7e646d5307f6"
     }
    },
    "9b5dc9cc20b04639b1b774aa01871b7a": {
     "model_module": "@jupyter-widgets/controls",
     "model_module_version": "1.5.0",
     "model_name": "HBoxModel",
     "state": {
      "_dom_classes": [],
      "_model_module": "@jupyter-widgets/controls",
      "_model_module_version": "1.5.0",
      "_model_name": "HBoxModel",
      "_view_count": null,
      "_view_module": "@jupyter-widgets/controls",
      "_view_module_version": "1.5.0",
      "_view_name": "HBoxView",
      "box_style": "",
      "children": [
       "IPY_MODEL_541e656bde5d41a6bede9095211dc105",
       "IPY_MODEL_ce0102f5186d4d8abdff74de4c3f7d46",
       "IPY_MODEL_5240c1ef12a840279ce413e3847005dc"
      ],
      "layout": "IPY_MODEL_2fbaa956600a47b5bdf6b4611fa6be9f"
     }
    },
    "9b9621147fb3422783822634e6fc11f5": {
     "model_module": "@jupyter-widgets/base",
     "model_module_version": "1.2.0",
     "model_name": "LayoutModel",
     "state": {
      "_model_module": "@jupyter-widgets/base",
      "_model_module_version": "1.2.0",
      "_model_name": "LayoutModel",
      "_view_count": null,
      "_view_module": "@jupyter-widgets/base",
      "_view_module_version": "1.2.0",
      "_view_name": "LayoutView",
      "align_content": null,
      "align_items": null,
      "align_self": null,
      "border": null,
      "bottom": null,
      "display": null,
      "flex": null,
      "flex_flow": null,
      "grid_area": null,
      "grid_auto_columns": null,
      "grid_auto_flow": null,
      "grid_auto_rows": null,
      "grid_column": null,
      "grid_gap": null,
      "grid_row": null,
      "grid_template_areas": null,
      "grid_template_columns": null,
      "grid_template_rows": null,
      "height": null,
      "justify_content": null,
      "justify_items": null,
      "left": null,
      "margin": null,
      "max_height": null,
      "max_width": null,
      "min_height": null,
      "min_width": null,
      "object_fit": null,
      "object_position": null,
      "order": null,
      "overflow": null,
      "overflow_x": null,
      "overflow_y": null,
      "padding": null,
      "right": null,
      "top": null,
      "visibility": null,
      "width": null
     }
    },
    "9b97a75f123f436f98571285d2b7e887": {
     "model_module": "@jupyter-widgets/controls",
     "model_module_version": "1.5.0",
     "model_name": "ProgressStyleModel",
     "state": {
      "_model_module": "@jupyter-widgets/controls",
      "_model_module_version": "1.5.0",
      "_model_name": "ProgressStyleModel",
      "_view_count": null,
      "_view_module": "@jupyter-widgets/base",
      "_view_module_version": "1.2.0",
      "_view_name": "StyleView",
      "bar_color": null,
      "description_width": ""
     }
    },
    "9c5d1d4f3fd84ef98d746bac050468a0": {
     "model_module": "@jupyter-widgets/controls",
     "model_module_version": "1.5.0",
     "model_name": "FloatProgressModel",
     "state": {
      "_dom_classes": [],
      "_model_module": "@jupyter-widgets/controls",
      "_model_module_version": "1.5.0",
      "_model_name": "FloatProgressModel",
      "_view_count": null,
      "_view_module": "@jupyter-widgets/controls",
      "_view_module_version": "1.5.0",
      "_view_name": "ProgressView",
      "bar_style": "success",
      "description": "",
      "description_tooltip": null,
      "layout": "IPY_MODEL_53740f7fa4aa46f9b7a9c6913fea416a",
      "max": 461,
      "min": 0,
      "orientation": "horizontal",
      "style": "IPY_MODEL_6683e412cc38476bb498a64edfd54671",
      "value": 461
     }
    },
    "9ca80a70426f464b836fc9c1d6844b01": {
     "model_module": "@jupyter-widgets/controls",
     "model_module_version": "1.5.0",
     "model_name": "HBoxModel",
     "state": {
      "_dom_classes": [],
      "_model_module": "@jupyter-widgets/controls",
      "_model_module_version": "1.5.0",
      "_model_name": "HBoxModel",
      "_view_count": null,
      "_view_module": "@jupyter-widgets/controls",
      "_view_module_version": "1.5.0",
      "_view_name": "HBoxView",
      "box_style": "",
      "children": [
       "IPY_MODEL_7a31eb9911e0412b8bf7faa2ab9a06c9",
       "IPY_MODEL_71ee113c156b42cfba43e0b74bded846",
       "IPY_MODEL_c218b1f34e03425fadc278b8398776da"
      ],
      "layout": "IPY_MODEL_41fb5c1c835a4084ae68ee54647b0fcc"
     }
    },
    "9eb7f14101a54f518a53a5c00ec611d4": {
     "model_module": "@jupyter-widgets/base",
     "model_module_version": "1.2.0",
     "model_name": "LayoutModel",
     "state": {
      "_model_module": "@jupyter-widgets/base",
      "_model_module_version": "1.2.0",
      "_model_name": "LayoutModel",
      "_view_count": null,
      "_view_module": "@jupyter-widgets/base",
      "_view_module_version": "1.2.0",
      "_view_name": "LayoutView",
      "align_content": null,
      "align_items": null,
      "align_self": null,
      "border": null,
      "bottom": null,
      "display": null,
      "flex": null,
      "flex_flow": null,
      "grid_area": null,
      "grid_auto_columns": null,
      "grid_auto_flow": null,
      "grid_auto_rows": null,
      "grid_column": null,
      "grid_gap": null,
      "grid_row": null,
      "grid_template_areas": null,
      "grid_template_columns": null,
      "grid_template_rows": null,
      "height": null,
      "justify_content": null,
      "justify_items": null,
      "left": null,
      "margin": null,
      "max_height": null,
      "max_width": null,
      "min_height": null,
      "min_width": null,
      "object_fit": null,
      "object_position": null,
      "order": null,
      "overflow": null,
      "overflow_x": null,
      "overflow_y": null,
      "padding": null,
      "right": null,
      "top": null,
      "visibility": null,
      "width": null
     }
    },
    "a6727995ec4b4617a55f43e39ed967d5": {
     "model_module": "@jupyter-widgets/controls",
     "model_module_version": "1.5.0",
     "model_name": "HBoxModel",
     "state": {
      "_dom_classes": [],
      "_model_module": "@jupyter-widgets/controls",
      "_model_module_version": "1.5.0",
      "_model_name": "HBoxModel",
      "_view_count": null,
      "_view_module": "@jupyter-widgets/controls",
      "_view_module_version": "1.5.0",
      "_view_name": "HBoxView",
      "box_style": "",
      "children": [
       "IPY_MODEL_5baeb21666f74088bf310552f579a505",
       "IPY_MODEL_cbd78014b7ca404da080c5bd5c3ced84",
       "IPY_MODEL_7280c916de9e4469afe10f66c41e8f40"
      ],
      "layout": "IPY_MODEL_29027f59ab4b4853a3ddc04047a425f1"
     }
    },
    "a9e3396bc8ba41e89ec78c1673ed105e": {
     "model_module": "@jupyter-widgets/controls",
     "model_module_version": "1.5.0",
     "model_name": "HBoxModel",
     "state": {
      "_dom_classes": [],
      "_model_module": "@jupyter-widgets/controls",
      "_model_module_version": "1.5.0",
      "_model_name": "HBoxModel",
      "_view_count": null,
      "_view_module": "@jupyter-widgets/controls",
      "_view_module_version": "1.5.0",
      "_view_name": "HBoxView",
      "box_style": "",
      "children": [
       "IPY_MODEL_b267a9b9612143299bf69088fd997fae",
       "IPY_MODEL_99f5bbd4274f48049185208e5ae588c1",
       "IPY_MODEL_3a60e0c2702c40a5864843c2cdb9a397"
      ],
      "layout": "IPY_MODEL_fe3ef07fc2334c299474ee33df2331ba"
     }
    },
    "ab02adf415254d34b82b776c5313d670": {
     "model_module": "@jupyter-widgets/base",
     "model_module_version": "1.2.0",
     "model_name": "LayoutModel",
     "state": {
      "_model_module": "@jupyter-widgets/base",
      "_model_module_version": "1.2.0",
      "_model_name": "LayoutModel",
      "_view_count": null,
      "_view_module": "@jupyter-widgets/base",
      "_view_module_version": "1.2.0",
      "_view_name": "LayoutView",
      "align_content": null,
      "align_items": null,
      "align_self": null,
      "border": null,
      "bottom": null,
      "display": null,
      "flex": null,
      "flex_flow": null,
      "grid_area": null,
      "grid_auto_columns": null,
      "grid_auto_flow": null,
      "grid_auto_rows": null,
      "grid_column": null,
      "grid_gap": null,
      "grid_row": null,
      "grid_template_areas": null,
      "grid_template_columns": null,
      "grid_template_rows": null,
      "height": null,
      "justify_content": null,
      "justify_items": null,
      "left": null,
      "margin": null,
      "max_height": null,
      "max_width": null,
      "min_height": null,
      "min_width": null,
      "object_fit": null,
      "object_position": null,
      "order": null,
      "overflow": null,
      "overflow_x": null,
      "overflow_y": null,
      "padding": null,
      "right": null,
      "top": null,
      "visibility": null,
      "width": null
     }
    },
    "af65fbfec677436bbeaa15c0112bdc0a": {
     "model_module": "@jupyter-widgets/controls",
     "model_module_version": "1.5.0",
     "model_name": "DescriptionStyleModel",
     "state": {
      "_model_module": "@jupyter-widgets/controls",
      "_model_module_version": "1.5.0",
      "_model_name": "DescriptionStyleModel",
      "_view_count": null,
      "_view_module": "@jupyter-widgets/base",
      "_view_module_version": "1.2.0",
      "_view_name": "StyleView",
      "description_width": ""
     }
    },
    "b267a9b9612143299bf69088fd997fae": {
     "model_module": "@jupyter-widgets/controls",
     "model_module_version": "1.5.0",
     "model_name": "HTMLModel",
     "state": {
      "_dom_classes": [],
      "_model_module": "@jupyter-widgets/controls",
      "_model_module_version": "1.5.0",
      "_model_name": "HTMLModel",
      "_view_count": null,
      "_view_module": "@jupyter-widgets/controls",
      "_view_module_version": "1.5.0",
      "_view_name": "HTMLView",
      "description": "",
      "description_tooltip": null,
      "layout": "IPY_MODEL_f14e651b5d1b43ecb6ef01694fa1adb8",
      "placeholder": "​",
      "style": "IPY_MODEL_cf6db63cee5f4188b258e7d25259eb4e",
      "value": "Downloading (…)ce_transformers.json: 100%"
     }
    },
    "b289240346f643b0beddd3b336aebb8f": {
     "model_module": "@jupyter-widgets/controls",
     "model_module_version": "1.5.0",
     "model_name": "ProgressStyleModel",
     "state": {
      "_model_module": "@jupyter-widgets/controls",
      "_model_module_version": "1.5.0",
      "_model_name": "ProgressStyleModel",
      "_view_count": null,
      "_view_module": "@jupyter-widgets/base",
      "_view_module_version": "1.2.0",
      "_view_name": "StyleView",
      "bar_color": null,
      "description_width": ""
     }
    },
    "b7b6750b5f734b709bfd62f8b35f4246": {
     "model_module": "@jupyter-widgets/base",
     "model_module_version": "1.2.0",
     "model_name": "LayoutModel",
     "state": {
      "_model_module": "@jupyter-widgets/base",
      "_model_module_version": "1.2.0",
      "_model_name": "LayoutModel",
      "_view_count": null,
      "_view_module": "@jupyter-widgets/base",
      "_view_module_version": "1.2.0",
      "_view_name": "LayoutView",
      "align_content": null,
      "align_items": null,
      "align_self": null,
      "border": null,
      "bottom": null,
      "display": null,
      "flex": null,
      "flex_flow": null,
      "grid_area": null,
      "grid_auto_columns": null,
      "grid_auto_flow": null,
      "grid_auto_rows": null,
      "grid_column": null,
      "grid_gap": null,
      "grid_row": null,
      "grid_template_areas": null,
      "grid_template_columns": null,
      "grid_template_rows": null,
      "height": null,
      "justify_content": null,
      "justify_items": null,
      "left": null,
      "margin": null,
      "max_height": null,
      "max_width": null,
      "min_height": null,
      "min_width": null,
      "object_fit": null,
      "object_position": null,
      "order": null,
      "overflow": null,
      "overflow_x": null,
      "overflow_y": null,
      "padding": null,
      "right": null,
      "top": null,
      "visibility": null,
      "width": null
     }
    },
    "b837f3991db3417d8f2e868245e93a3a": {
     "model_module": "@jupyter-widgets/controls",
     "model_module_version": "1.5.0",
     "model_name": "HTMLModel",
     "state": {
      "_dom_classes": [],
      "_model_module": "@jupyter-widgets/controls",
      "_model_module_version": "1.5.0",
      "_model_name": "HTMLModel",
      "_view_count": null,
      "_view_module": "@jupyter-widgets/controls",
      "_view_module_version": "1.5.0",
      "_view_name": "HTMLView",
      "description": "",
      "description_tooltip": null,
      "layout": "IPY_MODEL_c22f5c9dd31a4a248a49355dc615339e",
      "placeholder": "​",
      "style": "IPY_MODEL_952e6163652c409da15c41ac5feb5c39",
      "value": "Downloading (…)f57f436/modules.json: 100%"
     }
    },
    "b8cd046431d4488bb5eacb5e7b070d2e": {
     "model_module": "@jupyter-widgets/controls",
     "model_module_version": "1.5.0",
     "model_name": "FloatProgressModel",
     "state": {
      "_dom_classes": [],
      "_model_module": "@jupyter-widgets/controls",
      "_model_module_version": "1.5.0",
      "_model_name": "FloatProgressModel",
      "_view_count": null,
      "_view_module": "@jupyter-widgets/controls",
      "_view_module_version": "1.5.0",
      "_view_name": "ProgressView",
      "bar_style": "success",
      "description": "",
      "description_tooltip": null,
      "layout": "IPY_MODEL_1fa5e5ba058843bf9b5e60940be22803",
      "max": 2201,
      "min": 0,
      "orientation": "horizontal",
      "style": "IPY_MODEL_0246f9d7da444a2c94a3e3d27d2b4d52",
      "value": 2201
     }
    },
    "b8fccbca04a54f819f28eae568883d80": {
     "model_module": "@jupyter-widgets/base",
     "model_module_version": "1.2.0",
     "model_name": "LayoutModel",
     "state": {
      "_model_module": "@jupyter-widgets/base",
      "_model_module_version": "1.2.0",
      "_model_name": "LayoutModel",
      "_view_count": null,
      "_view_module": "@jupyter-widgets/base",
      "_view_module_version": "1.2.0",
      "_view_name": "LayoutView",
      "align_content": null,
      "align_items": null,
      "align_self": null,
      "border": null,
      "bottom": null,
      "display": null,
      "flex": null,
      "flex_flow": null,
      "grid_area": null,
      "grid_auto_columns": null,
      "grid_auto_flow": null,
      "grid_auto_rows": null,
      "grid_column": null,
      "grid_gap": null,
      "grid_row": null,
      "grid_template_areas": null,
      "grid_template_columns": null,
      "grid_template_rows": null,
      "height": null,
      "justify_content": null,
      "justify_items": null,
      "left": null,
      "margin": null,
      "max_height": null,
      "max_width": null,
      "min_height": null,
      "min_width": null,
      "object_fit": null,
      "object_position": null,
      "order": null,
      "overflow": null,
      "overflow_x": null,
      "overflow_y": null,
      "padding": null,
      "right": null,
      "top": null,
      "visibility": null,
      "width": null
     }
    },
    "b9099cc68e2b42deb4e256e2b428c113": {
     "model_module": "@jupyter-widgets/base",
     "model_module_version": "1.2.0",
     "model_name": "LayoutModel",
     "state": {
      "_model_module": "@jupyter-widgets/base",
      "_model_module_version": "1.2.0",
      "_model_name": "LayoutModel",
      "_view_count": null,
      "_view_module": "@jupyter-widgets/base",
      "_view_module_version": "1.2.0",
      "_view_name": "LayoutView",
      "align_content": null,
      "align_items": null,
      "align_self": null,
      "border": null,
      "bottom": null,
      "display": null,
      "flex": null,
      "flex_flow": null,
      "grid_area": null,
      "grid_auto_columns": null,
      "grid_auto_flow": null,
      "grid_auto_rows": null,
      "grid_column": null,
      "grid_gap": null,
      "grid_row": null,
      "grid_template_areas": null,
      "grid_template_columns": null,
      "grid_template_rows": null,
      "height": null,
      "justify_content": null,
      "justify_items": null,
      "left": null,
      "margin": null,
      "max_height": null,
      "max_width": null,
      "min_height": null,
      "min_width": null,
      "object_fit": null,
      "object_position": null,
      "order": null,
      "overflow": null,
      "overflow_x": null,
      "overflow_y": null,
      "padding": null,
      "right": null,
      "top": null,
      "visibility": null,
      "width": null
     }
    },
    "b92961066e8e47528db02ea71796f35f": {
     "model_module": "@jupyter-widgets/base",
     "model_module_version": "1.2.0",
     "model_name": "LayoutModel",
     "state": {
      "_model_module": "@jupyter-widgets/base",
      "_model_module_version": "1.2.0",
      "_model_name": "LayoutModel",
      "_view_count": null,
      "_view_module": "@jupyter-widgets/base",
      "_view_module_version": "1.2.0",
      "_view_name": "LayoutView",
      "align_content": null,
      "align_items": null,
      "align_self": null,
      "border": null,
      "bottom": null,
      "display": null,
      "flex": null,
      "flex_flow": null,
      "grid_area": null,
      "grid_auto_columns": null,
      "grid_auto_flow": null,
      "grid_auto_rows": null,
      "grid_column": null,
      "grid_gap": null,
      "grid_row": null,
      "grid_template_areas": null,
      "grid_template_columns": null,
      "grid_template_rows": null,
      "height": null,
      "justify_content": null,
      "justify_items": null,
      "left": null,
      "margin": null,
      "max_height": null,
      "max_width": null,
      "min_height": null,
      "min_width": null,
      "object_fit": null,
      "object_position": null,
      "order": null,
      "overflow": null,
      "overflow_x": null,
      "overflow_y": null,
      "padding": null,
      "right": null,
      "top": null,
      "visibility": null,
      "width": null
     }
    },
    "be24b1f82ac24666874575c8e08e3370": {
     "model_module": "@jupyter-widgets/controls",
     "model_module_version": "1.5.0",
     "model_name": "HTMLModel",
     "state": {
      "_dom_classes": [],
      "_model_module": "@jupyter-widgets/controls",
      "_model_module_version": "1.5.0",
      "_model_name": "HTMLModel",
      "_view_count": null,
      "_view_module": "@jupyter-widgets/controls",
      "_view_module_version": "1.5.0",
      "_view_name": "HTMLView",
      "description": "",
      "description_tooltip": null,
      "layout": "IPY_MODEL_8518c224b2b54cbca48002d2157c7eae",
      "placeholder": "​",
      "style": "IPY_MODEL_53aee2cbca4447109fa398e2b92af6f9",
      "value": "Downloading (…)7f436/.gitattributes: 100%"
     }
    },
    "bfba22566e6a4bceb65ca136daaf680e": {
     "model_module": "@jupyter-widgets/base",
     "model_module_version": "1.2.0",
     "model_name": "LayoutModel",
     "state": {
      "_model_module": "@jupyter-widgets/base",
      "_model_module_version": "1.2.0",
      "_model_name": "LayoutModel",
      "_view_count": null,
      "_view_module": "@jupyter-widgets/base",
      "_view_module_version": "1.2.0",
      "_view_name": "LayoutView",
      "align_content": null,
      "align_items": null,
      "align_self": null,
      "border": null,
      "bottom": null,
      "display": null,
      "flex": null,
      "flex_flow": null,
      "grid_area": null,
      "grid_auto_columns": null,
      "grid_auto_flow": null,
      "grid_auto_rows": null,
      "grid_column": null,
      "grid_gap": null,
      "grid_row": null,
      "grid_template_areas": null,
      "grid_template_columns": null,
      "grid_template_rows": null,
      "height": null,
      "justify_content": null,
      "justify_items": null,
      "left": null,
      "margin": null,
      "max_height": null,
      "max_width": null,
      "min_height": null,
      "min_width": null,
      "object_fit": null,
      "object_position": null,
      "order": null,
      "overflow": null,
      "overflow_x": null,
      "overflow_y": null,
      "padding": null,
      "right": null,
      "top": null,
      "visibility": null,
      "width": null
     }
    },
    "c0e05b7e167b4dcb91928ddddf41ed97": {
     "model_module": "@jupyter-widgets/controls",
     "model_module_version": "1.5.0",
     "model_name": "HTMLModel",
     "state": {
      "_dom_classes": [],
      "_model_module": "@jupyter-widgets/controls",
      "_model_module_version": "1.5.0",
      "_model_name": "HTMLModel",
      "_view_count": null,
      "_view_module": "@jupyter-widgets/controls",
      "_view_module_version": "1.5.0",
      "_view_name": "HTMLView",
      "description": "",
      "description_tooltip": null,
      "layout": "IPY_MODEL_8c3e41613d4a4d08b4d77736feaf3e99",
      "placeholder": "​",
      "style": "IPY_MODEL_ec30da01c23c48c0b443fdca0c628027",
      "value": " 2.42M/2.42M [00:00&lt;00:00, 6.18MB/s]"
     }
    },
    "c150345e9964491daeb65f5a86160df3": {
     "model_module": "@jupyter-widgets/controls",
     "model_module_version": "1.5.0",
     "model_name": "HTMLModel",
     "state": {
      "_dom_classes": [],
      "_model_module": "@jupyter-widgets/controls",
      "_model_module_version": "1.5.0",
      "_model_name": "HTMLModel",
      "_view_count": null,
      "_view_module": "@jupyter-widgets/controls",
      "_view_module_version": "1.5.0",
      "_view_name": "HTMLView",
      "description": "",
      "description_tooltip": null,
      "layout": "IPY_MODEL_9b9621147fb3422783822634e6fc11f5",
      "placeholder": "​",
      "style": "IPY_MODEL_4a317d7d11a445b9b3484c68375f5cae",
      "value": " 4.96G/4.96G [01:07&lt;00:00, 72.8MB/s]"
     }
    },
    "c218b1f34e03425fadc278b8398776da": {
     "model_module": "@jupyter-widgets/controls",
     "model_module_version": "1.5.0",
     "model_name": "HTMLModel",
     "state": {
      "_dom_classes": [],
      "_model_module": "@jupyter-widgets/controls",
      "_model_module_version": "1.5.0",
      "_model_name": "HTMLModel",
      "_view_count": null,
      "_view_module": "@jupyter-widgets/controls",
      "_view_module_version": "1.5.0",
      "_view_name": "HTMLView",
      "description": "",
      "description_tooltip": null,
      "layout": "IPY_MODEL_d7f2f4c4cc8441efa15142e5e13faff3",
      "placeholder": "​",
      "style": "IPY_MODEL_33089bedfb9746158d524a52ed2c1062",
      "value": " 270/270 [00:00&lt;00:00, 16.7kB/s]"
     }
    },
    "c22f5c9dd31a4a248a49355dc615339e": {
     "model_module": "@jupyter-widgets/base",
     "model_module_version": "1.2.0",
     "model_name": "LayoutModel",
     "state": {
      "_model_module": "@jupyter-widgets/base",
      "_model_module_version": "1.2.0",
      "_model_name": "LayoutModel",
      "_view_count": null,
      "_view_module": "@jupyter-widgets/base",
      "_view_module_version": "1.2.0",
      "_view_name": "LayoutView",
      "align_content": null,
      "align_items": null,
      "align_self": null,
      "border": null,
      "bottom": null,
      "display": null,
      "flex": null,
      "flex_flow": null,
      "grid_area": null,
      "grid_auto_columns": null,
      "grid_auto_flow": null,
      "grid_auto_rows": null,
      "grid_column": null,
      "grid_gap": null,
      "grid_row": null,
      "grid_template_areas": null,
      "grid_template_columns": null,
      "grid_template_rows": null,
      "height": null,
      "justify_content": null,
      "justify_items": null,
      "left": null,
      "margin": null,
      "max_height": null,
      "max_width": null,
      "min_height": null,
      "min_width": null,
      "object_fit": null,
      "object_position": null,
      "order": null,
      "overflow": null,
      "overflow_x": null,
      "overflow_y": null,
      "padding": null,
      "right": null,
      "top": null,
      "visibility": null,
      "width": null
     }
    },
    "c2ffe72b0f544c6fbc1963b8cef40f8a": {
     "model_module": "@jupyter-widgets/controls",
     "model_module_version": "1.5.0",
     "model_name": "HTMLModel",
     "state": {
      "_dom_classes": [],
      "_model_module": "@jupyter-widgets/controls",
      "_model_module_version": "1.5.0",
      "_model_name": "HTMLModel",
      "_view_count": null,
      "_view_module": "@jupyter-widgets/controls",
      "_view_module_version": "1.5.0",
      "_view_name": "HTMLView",
      "description": "",
      "description_tooltip": null,
      "layout": "IPY_MODEL_6e4db1f83a8a4fed8b93f8606419e784",
      "placeholder": "​",
      "style": "IPY_MODEL_7066f7af119b4643bda01f6d0dab0a99",
      "value": "Downloading (…)cial_tokens_map.json: 100%"
     }
    },
    "c41c55115db34627a105b948df21d2a5": {
     "model_module": "@jupyter-widgets/base",
     "model_module_version": "1.2.0",
     "model_name": "LayoutModel",
     "state": {
      "_model_module": "@jupyter-widgets/base",
      "_model_module_version": "1.2.0",
      "_model_name": "LayoutModel",
      "_view_count": null,
      "_view_module": "@jupyter-widgets/base",
      "_view_module_version": "1.2.0",
      "_view_name": "LayoutView",
      "align_content": null,
      "align_items": null,
      "align_self": null,
      "border": null,
      "bottom": null,
      "display": null,
      "flex": null,
      "flex_flow": null,
      "grid_area": null,
      "grid_auto_columns": null,
      "grid_auto_flow": null,
      "grid_auto_rows": null,
      "grid_column": null,
      "grid_gap": null,
      "grid_row": null,
      "grid_template_areas": null,
      "grid_template_columns": null,
      "grid_template_rows": null,
      "height": null,
      "justify_content": null,
      "justify_items": null,
      "left": null,
      "margin": null,
      "max_height": null,
      "max_width": null,
      "min_height": null,
      "min_width": null,
      "object_fit": null,
      "object_position": null,
      "order": null,
      "overflow": null,
      "overflow_x": null,
      "overflow_y": null,
      "padding": null,
      "right": null,
      "top": null,
      "visibility": null,
      "width": null
     }
    },
    "c98f0ffed6114f3ea16df7d1df00dacb": {
     "model_module": "@jupyter-widgets/base",
     "model_module_version": "1.2.0",
     "model_name": "LayoutModel",
     "state": {
      "_model_module": "@jupyter-widgets/base",
      "_model_module_version": "1.2.0",
      "_model_name": "LayoutModel",
      "_view_count": null,
      "_view_module": "@jupyter-widgets/base",
      "_view_module_version": "1.2.0",
      "_view_name": "LayoutView",
      "align_content": null,
      "align_items": null,
      "align_self": null,
      "border": null,
      "bottom": null,
      "display": null,
      "flex": null,
      "flex_flow": null,
      "grid_area": null,
      "grid_auto_columns": null,
      "grid_auto_flow": null,
      "grid_auto_rows": null,
      "grid_column": null,
      "grid_gap": null,
      "grid_row": null,
      "grid_template_areas": null,
      "grid_template_columns": null,
      "grid_template_rows": null,
      "height": null,
      "justify_content": null,
      "justify_items": null,
      "left": null,
      "margin": null,
      "max_height": null,
      "max_width": null,
      "min_height": null,
      "min_width": null,
      "object_fit": null,
      "object_position": null,
      "order": null,
      "overflow": null,
      "overflow_x": null,
      "overflow_y": null,
      "padding": null,
      "right": null,
      "top": null,
      "visibility": null,
      "width": null
     }
    },
    "ca99c25607704a49a5283d83af2bc6f6": {
     "model_module": "@jupyter-widgets/controls",
     "model_module_version": "1.5.0",
     "model_name": "HBoxModel",
     "state": {
      "_dom_classes": [],
      "_model_module": "@jupyter-widgets/controls",
      "_model_module_version": "1.5.0",
      "_model_name": "HBoxModel",
      "_view_count": null,
      "_view_module": "@jupyter-widgets/controls",
      "_view_module_version": "1.5.0",
      "_view_name": "HBoxView",
      "box_style": "",
      "children": [
       "IPY_MODEL_75635ee6b9a54fc8a40bebf59871a466",
       "IPY_MODEL_7e703e2e6a504bc492aef3151caf99e2",
       "IPY_MODEL_d48f10895d304c8b90e0fb07969898be"
      ],
      "layout": "IPY_MODEL_7a67306d673b4e56b3c680a3fe269b84"
     }
    },
    "ca9bfc47af4946faa192e36af53faab6": {
     "model_module": "@jupyter-widgets/controls",
     "model_module_version": "1.5.0",
     "model_name": "ProgressStyleModel",
     "state": {
      "_model_module": "@jupyter-widgets/controls",
      "_model_module_version": "1.5.0",
      "_model_name": "ProgressStyleModel",
      "_view_count": null,
      "_view_module": "@jupyter-widgets/base",
      "_view_module_version": "1.2.0",
      "_view_name": "StyleView",
      "bar_color": null,
      "description_width": ""
     }
    },
    "cbd78014b7ca404da080c5bd5c3ced84": {
     "model_module": "@jupyter-widgets/controls",
     "model_module_version": "1.5.0",
     "model_name": "FloatProgressModel",
     "state": {
      "_dom_classes": [],
      "_model_module": "@jupyter-widgets/controls",
      "_model_module_version": "1.5.0",
      "_model_name": "FloatProgressModel",
      "_view_count": null,
      "_view_module": "@jupyter-widgets/controls",
      "_view_module_version": "1.5.0",
      "_view_name": "ProgressView",
      "bar_style": "success",
      "description": "",
      "description_tooltip": null,
      "layout": "IPY_MODEL_28d014b7a7004ead8a6b478fbbb56e77",
      "max": 3146603,
      "min": 0,
      "orientation": "horizontal",
      "style": "IPY_MODEL_9b97a75f123f436f98571285d2b7e887",
      "value": 3146603
     }
    },
    "ce0102f5186d4d8abdff74de4c3f7d46": {
     "model_module": "@jupyter-widgets/controls",
     "model_module_version": "1.5.0",
     "model_name": "FloatProgressModel",
     "state": {
      "_dom_classes": [],
      "_model_module": "@jupyter-widgets/controls",
      "_model_module_version": "1.5.0",
      "_model_name": "FloatProgressModel",
      "_view_count": null,
      "_view_module": "@jupyter-widgets/controls",
      "_view_module_version": "1.5.0",
      "_view_name": "ProgressView",
      "bar_style": "success",
      "description": "",
      "description_tooltip": null,
      "layout": "IPY_MODEL_45fae00ea59148b2a8d45103ca8692ad",
      "max": 2397,
      "min": 0,
      "orientation": "horizontal",
      "style": "IPY_MODEL_e3c356e413854018a4b13ef762b0dc1a",
      "value": 2397
     }
    },
    "cf6db63cee5f4188b258e7d25259eb4e": {
     "model_module": "@jupyter-widgets/controls",
     "model_module_version": "1.5.0",
     "model_name": "DescriptionStyleModel",
     "state": {
      "_model_module": "@jupyter-widgets/controls",
      "_model_module_version": "1.5.0",
      "_model_name": "DescriptionStyleModel",
      "_view_count": null,
      "_view_module": "@jupyter-widgets/base",
      "_view_module_version": "1.2.0",
      "_view_name": "StyleView",
      "description_width": ""
     }
    },
    "d2dc24688c2244d08077fa90ba2b1e77": {
     "model_module": "@jupyter-widgets/controls",
     "model_module_version": "1.5.0",
     "model_name": "ProgressStyleModel",
     "state": {
      "_model_module": "@jupyter-widgets/controls",
      "_model_module_version": "1.5.0",
      "_model_name": "ProgressStyleModel",
      "_view_count": null,
      "_view_module": "@jupyter-widgets/base",
      "_view_module_version": "1.2.0",
      "_view_name": "StyleView",
      "bar_color": null,
      "description_width": ""
     }
    },
    "d2e90a3c5e4f4d519401f9cc6e44c537": {
     "model_module": "@jupyter-widgets/controls",
     "model_module_version": "1.5.0",
     "model_name": "DescriptionStyleModel",
     "state": {
      "_model_module": "@jupyter-widgets/controls",
      "_model_module_version": "1.5.0",
      "_model_name": "DescriptionStyleModel",
      "_view_count": null,
      "_view_module": "@jupyter-widgets/base",
      "_view_module_version": "1.2.0",
      "_view_name": "StyleView",
      "description_width": ""
     }
    },
    "d316a30159534699ab4a3ecb01e41e84": {
     "model_module": "@jupyter-widgets/base",
     "model_module_version": "1.2.0",
     "model_name": "LayoutModel",
     "state": {
      "_model_module": "@jupyter-widgets/base",
      "_model_module_version": "1.2.0",
      "_model_name": "LayoutModel",
      "_view_count": null,
      "_view_module": "@jupyter-widgets/base",
      "_view_module_version": "1.2.0",
      "_view_name": "LayoutView",
      "align_content": null,
      "align_items": null,
      "align_self": null,
      "border": null,
      "bottom": null,
      "display": null,
      "flex": null,
      "flex_flow": null,
      "grid_area": null,
      "grid_auto_columns": null,
      "grid_auto_flow": null,
      "grid_auto_rows": null,
      "grid_column": null,
      "grid_gap": null,
      "grid_row": null,
      "grid_template_areas": null,
      "grid_template_columns": null,
      "grid_template_rows": null,
      "height": null,
      "justify_content": null,
      "justify_items": null,
      "left": null,
      "margin": null,
      "max_height": null,
      "max_width": null,
      "min_height": null,
      "min_width": null,
      "object_fit": null,
      "object_position": null,
      "order": null,
      "overflow": null,
      "overflow_x": null,
      "overflow_y": null,
      "padding": null,
      "right": null,
      "top": null,
      "visibility": null,
      "width": null
     }
    },
    "d48f10895d304c8b90e0fb07969898be": {
     "model_module": "@jupyter-widgets/controls",
     "model_module_version": "1.5.0",
     "model_name": "HTMLModel",
     "state": {
      "_dom_classes": [],
      "_model_module": "@jupyter-widgets/controls",
      "_model_module_version": "1.5.0",
      "_model_name": "HTMLModel",
      "_view_count": null,
      "_view_module": "@jupyter-widgets/controls",
      "_view_module_version": "1.5.0",
      "_view_name": "HTMLView",
      "description": "",
      "description_tooltip": null,
      "layout": "IPY_MODEL_d316a30159534699ab4a3ecb01e41e84",
      "placeholder": "​",
      "style": "IPY_MODEL_eee768c168bc4ec1b4c61dd675cd9fb5",
      "value": " 53.0/53.0 [00:00&lt;00:00, 3.27kB/s]"
     }
    },
    "d49da0f25d564a67b8447e3ee2093f2d": {
     "model_module": "@jupyter-widgets/base",
     "model_module_version": "1.2.0",
     "model_name": "LayoutModel",
     "state": {
      "_model_module": "@jupyter-widgets/base",
      "_model_module_version": "1.2.0",
      "_model_name": "LayoutModel",
      "_view_count": null,
      "_view_module": "@jupyter-widgets/base",
      "_view_module_version": "1.2.0",
      "_view_name": "LayoutView",
      "align_content": null,
      "align_items": null,
      "align_self": null,
      "border": null,
      "bottom": null,
      "display": null,
      "flex": null,
      "flex_flow": null,
      "grid_area": null,
      "grid_auto_columns": null,
      "grid_auto_flow": null,
      "grid_auto_rows": null,
      "grid_column": null,
      "grid_gap": null,
      "grid_row": null,
      "grid_template_areas": null,
      "grid_template_columns": null,
      "grid_template_rows": null,
      "height": null,
      "justify_content": null,
      "justify_items": null,
      "left": null,
      "margin": null,
      "max_height": null,
      "max_width": null,
      "min_height": null,
      "min_width": null,
      "object_fit": null,
      "object_position": null,
      "order": null,
      "overflow": null,
      "overflow_x": null,
      "overflow_y": null,
      "padding": null,
      "right": null,
      "top": null,
      "visibility": null,
      "width": null
     }
    },
    "d6e08317854c47a58d860d693f242223": {
     "model_module": "@jupyter-widgets/controls",
     "model_module_version": "1.5.0",
     "model_name": "DescriptionStyleModel",
     "state": {
      "_model_module": "@jupyter-widgets/controls",
      "_model_module_version": "1.5.0",
      "_model_name": "DescriptionStyleModel",
      "_view_count": null,
      "_view_module": "@jupyter-widgets/base",
      "_view_module_version": "1.2.0",
      "_view_name": "StyleView",
      "description_width": ""
     }
    },
    "d7f2f4c4cc8441efa15142e5e13faff3": {
     "model_module": "@jupyter-widgets/base",
     "model_module_version": "1.2.0",
     "model_name": "LayoutModel",
     "state": {
      "_model_module": "@jupyter-widgets/base",
      "_model_module_version": "1.2.0",
      "_model_name": "LayoutModel",
      "_view_count": null,
      "_view_module": "@jupyter-widgets/base",
      "_view_module_version": "1.2.0",
      "_view_name": "LayoutView",
      "align_content": null,
      "align_items": null,
      "align_self": null,
      "border": null,
      "bottom": null,
      "display": null,
      "flex": null,
      "flex_flow": null,
      "grid_area": null,
      "grid_auto_columns": null,
      "grid_auto_flow": null,
      "grid_auto_rows": null,
      "grid_column": null,
      "grid_gap": null,
      "grid_row": null,
      "grid_template_areas": null,
      "grid_template_columns": null,
      "grid_template_rows": null,
      "height": null,
      "justify_content": null,
      "justify_items": null,
      "left": null,
      "margin": null,
      "max_height": null,
      "max_width": null,
      "min_height": null,
      "min_width": null,
      "object_fit": null,
      "object_position": null,
      "order": null,
      "overflow": null,
      "overflow_x": null,
      "overflow_y": null,
      "padding": null,
      "right": null,
      "top": null,
      "visibility": null,
      "width": null
     }
    },
    "d8db4f5b5d1b44de9b9992a64bf6e2bd": {
     "model_module": "@jupyter-widgets/base",
     "model_module_version": "1.2.0",
     "model_name": "LayoutModel",
     "state": {
      "_model_module": "@jupyter-widgets/base",
      "_model_module_version": "1.2.0",
      "_model_name": "LayoutModel",
      "_view_count": null,
      "_view_module": "@jupyter-widgets/base",
      "_view_module_version": "1.2.0",
      "_view_name": "LayoutView",
      "align_content": null,
      "align_items": null,
      "align_self": null,
      "border": null,
      "bottom": null,
      "display": null,
      "flex": null,
      "flex_flow": null,
      "grid_area": null,
      "grid_auto_columns": null,
      "grid_auto_flow": null,
      "grid_auto_rows": null,
      "grid_column": null,
      "grid_gap": null,
      "grid_row": null,
      "grid_template_areas": null,
      "grid_template_columns": null,
      "grid_template_rows": null,
      "height": null,
      "justify_content": null,
      "justify_items": null,
      "left": null,
      "margin": null,
      "max_height": null,
      "max_width": null,
      "min_height": null,
      "min_width": null,
      "object_fit": null,
      "object_position": null,
      "order": null,
      "overflow": null,
      "overflow_x": null,
      "overflow_y": null,
      "padding": null,
      "right": null,
      "top": null,
      "visibility": null,
      "width": null
     }
    },
    "dbc9fb4995e9429980c361ccf40a5a40": {
     "model_module": "@jupyter-widgets/base",
     "model_module_version": "1.2.0",
     "model_name": "LayoutModel",
     "state": {
      "_model_module": "@jupyter-widgets/base",
      "_model_module_version": "1.2.0",
      "_model_name": "LayoutModel",
      "_view_count": null,
      "_view_module": "@jupyter-widgets/base",
      "_view_module_version": "1.2.0",
      "_view_name": "LayoutView",
      "align_content": null,
      "align_items": null,
      "align_self": null,
      "border": null,
      "bottom": null,
      "display": null,
      "flex": null,
      "flex_flow": null,
      "grid_area": null,
      "grid_auto_columns": null,
      "grid_auto_flow": null,
      "grid_auto_rows": null,
      "grid_column": null,
      "grid_gap": null,
      "grid_row": null,
      "grid_template_areas": null,
      "grid_template_columns": null,
      "grid_template_rows": null,
      "height": null,
      "justify_content": null,
      "justify_items": null,
      "left": null,
      "margin": null,
      "max_height": null,
      "max_width": null,
      "min_height": null,
      "min_width": null,
      "object_fit": null,
      "object_position": null,
      "order": null,
      "overflow": null,
      "overflow_x": null,
      "overflow_y": null,
      "padding": null,
      "right": null,
      "top": null,
      "visibility": null,
      "width": null
     }
    },
    "dcbb150e6c3241d7b1b50a33cee921f6": {
     "model_module": "@jupyter-widgets/controls",
     "model_module_version": "1.5.0",
     "model_name": "FloatProgressModel",
     "state": {
      "_dom_classes": [],
      "_model_module": "@jupyter-widgets/controls",
      "_model_module_version": "1.5.0",
      "_model_name": "FloatProgressModel",
      "_view_count": null,
      "_view_module": "@jupyter-widgets/controls",
      "_view_module_version": "1.5.0",
      "_view_name": "ProgressView",
      "bar_style": "success",
      "description": "",
      "description_tooltip": null,
      "layout": "IPY_MODEL_6cf4cf1069ca42fba1045da1d1758e96",
      "max": 1477,
      "min": 0,
      "orientation": "horizontal",
      "style": "IPY_MODEL_b289240346f643b0beddd3b336aebb8f",
      "value": 1477
     }
    },
    "deb61391355a4e189a0446574b77ff4b": {
     "model_module": "@jupyter-widgets/controls",
     "model_module_version": "1.5.0",
     "model_name": "HTMLModel",
     "state": {
      "_dom_classes": [],
      "_model_module": "@jupyter-widgets/controls",
      "_model_module_version": "1.5.0",
      "_model_name": "HTMLModel",
      "_view_count": null,
      "_view_module": "@jupyter-widgets/controls",
      "_view_module_version": "1.5.0",
      "_view_name": "HTMLView",
      "description": "",
      "description_tooltip": null,
      "layout": "IPY_MODEL_0c62bd101c59448d9f971112f5e0e6d1",
      "placeholder": "​",
      "style": "IPY_MODEL_7a782e26d4d3426f965f1de514ef1b6c",
      "value": "Downloading spiece.model: 100%"
     }
    },
    "e1ef5e9fa1a54697bcbcaafdc07f0af4": {
     "model_module": "@jupyter-widgets/controls",
     "model_module_version": "1.5.0",
     "model_name": "HTMLModel",
     "state": {
      "_dom_classes": [],
      "_model_module": "@jupyter-widgets/controls",
      "_model_module_version": "1.5.0",
      "_model_name": "HTMLModel",
      "_view_count": null,
      "_view_module": "@jupyter-widgets/controls",
      "_view_module_version": "1.5.0",
      "_view_name": "HTMLView",
      "description": "",
      "description_tooltip": null,
      "layout": "IPY_MODEL_d49da0f25d564a67b8447e3ee2093f2d",
      "placeholder": "​",
      "style": "IPY_MODEL_4d3445493a054b5da2208095d032809c",
      "value": " 2.20k/2.20k [00:00&lt;00:00, 109kB/s]"
     }
    },
    "e3c356e413854018a4b13ef762b0dc1a": {
     "model_module": "@jupyter-widgets/controls",
     "model_module_version": "1.5.0",
     "model_name": "ProgressStyleModel",
     "state": {
      "_model_module": "@jupyter-widgets/controls",
      "_model_module_version": "1.5.0",
      "_model_name": "ProgressStyleModel",
      "_view_count": null,
      "_view_module": "@jupyter-widgets/base",
      "_view_module_version": "1.2.0",
      "_view_name": "StyleView",
      "bar_color": null,
      "description_width": ""
     }
    },
    "e42b9f5da83e4c838659df9b9d0fcb18": {
     "model_module": "@jupyter-widgets/base",
     "model_module_version": "1.2.0",
     "model_name": "LayoutModel",
     "state": {
      "_model_module": "@jupyter-widgets/base",
      "_model_module_version": "1.2.0",
      "_model_name": "LayoutModel",
      "_view_count": null,
      "_view_module": "@jupyter-widgets/base",
      "_view_module_version": "1.2.0",
      "_view_name": "LayoutView",
      "align_content": null,
      "align_items": null,
      "align_self": null,
      "border": null,
      "bottom": null,
      "display": null,
      "flex": null,
      "flex_flow": null,
      "grid_area": null,
      "grid_auto_columns": null,
      "grid_auto_flow": null,
      "grid_auto_rows": null,
      "grid_column": null,
      "grid_gap": null,
      "grid_row": null,
      "grid_template_areas": null,
      "grid_template_columns": null,
      "grid_template_rows": null,
      "height": null,
      "justify_content": null,
      "justify_items": null,
      "left": null,
      "margin": null,
      "max_height": null,
      "max_width": null,
      "min_height": null,
      "min_width": null,
      "object_fit": null,
      "object_position": null,
      "order": null,
      "overflow": null,
      "overflow_x": null,
      "overflow_y": null,
      "padding": null,
      "right": null,
      "top": null,
      "visibility": null,
      "width": null
     }
    },
    "e4dbc6740555484183f8aedc353f9c75": {
     "model_module": "@jupyter-widgets/controls",
     "model_module_version": "1.5.0",
     "model_name": "DescriptionStyleModel",
     "state": {
      "_model_module": "@jupyter-widgets/controls",
      "_model_module_version": "1.5.0",
      "_model_name": "DescriptionStyleModel",
      "_view_count": null,
      "_view_module": "@jupyter-widgets/base",
      "_view_module_version": "1.2.0",
      "_view_name": "StyleView",
      "description_width": ""
     }
    },
    "e5782d7f511942eba38b2ba466b826a4": {
     "model_module": "@jupyter-widgets/base",
     "model_module_version": "1.2.0",
     "model_name": "LayoutModel",
     "state": {
      "_model_module": "@jupyter-widgets/base",
      "_model_module_version": "1.2.0",
      "_model_name": "LayoutModel",
      "_view_count": null,
      "_view_module": "@jupyter-widgets/base",
      "_view_module_version": "1.2.0",
      "_view_name": "LayoutView",
      "align_content": null,
      "align_items": null,
      "align_self": null,
      "border": null,
      "bottom": null,
      "display": null,
      "flex": null,
      "flex_flow": null,
      "grid_area": null,
      "grid_auto_columns": null,
      "grid_auto_flow": null,
      "grid_auto_rows": null,
      "grid_column": null,
      "grid_gap": null,
      "grid_row": null,
      "grid_template_areas": null,
      "grid_template_columns": null,
      "grid_template_rows": null,
      "height": null,
      "justify_content": null,
      "justify_items": null,
      "left": null,
      "margin": null,
      "max_height": null,
      "max_width": null,
      "min_height": null,
      "min_width": null,
      "object_fit": null,
      "object_position": null,
      "order": null,
      "overflow": null,
      "overflow_x": null,
      "overflow_y": null,
      "padding": null,
      "right": null,
      "top": null,
      "visibility": null,
      "width": null
     }
    },
    "e5e1717e592848fd9cd44e025314aebf": {
     "model_module": "@jupyter-widgets/controls",
     "model_module_version": "1.5.0",
     "model_name": "HBoxModel",
     "state": {
      "_dom_classes": [],
      "_model_module": "@jupyter-widgets/controls",
      "_model_module_version": "1.5.0",
      "_model_name": "HBoxModel",
      "_view_count": null,
      "_view_module": "@jupyter-widgets/controls",
      "_view_module_version": "1.5.0",
      "_view_name": "HBoxView",
      "box_style": "",
      "children": [
       "IPY_MODEL_b837f3991db3417d8f2e868245e93a3a",
       "IPY_MODEL_9c5d1d4f3fd84ef98d746bac050468a0",
       "IPY_MODEL_2bcb2d75760248a99c4abfd7ccf06e90"
      ],
      "layout": "IPY_MODEL_32453e6ca60a45f4bf720f4ac5782032"
     }
    },
    "e79ac19c749f42c9973fb0df0276fee3": {
     "model_module": "@jupyter-widgets/controls",
     "model_module_version": "1.5.0",
     "model_name": "HBoxModel",
     "state": {
      "_dom_classes": [],
      "_model_module": "@jupyter-widgets/controls",
      "_model_module_version": "1.5.0",
      "_model_name": "HBoxModel",
      "_view_count": null,
      "_view_module": "@jupyter-widgets/controls",
      "_view_module_version": "1.5.0",
      "_view_name": "HBoxView",
      "box_style": "",
      "children": [
       "IPY_MODEL_be24b1f82ac24666874575c8e08e3370",
       "IPY_MODEL_dcbb150e6c3241d7b1b50a33cee921f6",
       "IPY_MODEL_856f624b6023498bac1e7c3aa901c44b"
      ],
      "layout": "IPY_MODEL_7bc89b57d0404f2d86a734c52211656a"
     }
    },
    "ec066168031341ffa3900b0352c42f4a": {
     "model_module": "@jupyter-widgets/controls",
     "model_module_version": "1.5.0",
     "model_name": "DescriptionStyleModel",
     "state": {
      "_model_module": "@jupyter-widgets/controls",
      "_model_module_version": "1.5.0",
      "_model_name": "DescriptionStyleModel",
      "_view_count": null,
      "_view_module": "@jupyter-widgets/base",
      "_view_module_version": "1.2.0",
      "_view_name": "StyleView",
      "description_width": ""
     }
    },
    "ec30da01c23c48c0b443fdca0c628027": {
     "model_module": "@jupyter-widgets/controls",
     "model_module_version": "1.5.0",
     "model_name": "DescriptionStyleModel",
     "state": {
      "_model_module": "@jupyter-widgets/controls",
      "_model_module_version": "1.5.0",
      "_model_name": "DescriptionStyleModel",
      "_view_count": null,
      "_view_module": "@jupyter-widgets/base",
      "_view_module_version": "1.2.0",
      "_view_name": "StyleView",
      "description_width": ""
     }
    },
    "ee5ab1f4bb87475392d92907ead4edba": {
     "model_module": "@jupyter-widgets/controls",
     "model_module_version": "1.5.0",
     "model_name": "HTMLModel",
     "state": {
      "_dom_classes": [],
      "_model_module": "@jupyter-widgets/controls",
      "_model_module_version": "1.5.0",
      "_model_name": "HTMLModel",
      "_view_count": null,
      "_view_module": "@jupyter-widgets/controls",
      "_view_module_version": "1.5.0",
      "_view_name": "HTMLView",
      "description": "",
      "description_tooltip": null,
      "layout": "IPY_MODEL_2b4f55bf9c91477da99378b44cc2191e",
      "placeholder": "​",
      "style": "IPY_MODEL_66297fd8f72144e8a6a5df2f3dc42fee",
      "value": " 116/116 [00:00&lt;00:00, 9.34kB/s]"
     }
    },
    "eee768c168bc4ec1b4c61dd675cd9fb5": {
     "model_module": "@jupyter-widgets/controls",
     "model_module_version": "1.5.0",
     "model_name": "DescriptionStyleModel",
     "state": {
      "_model_module": "@jupyter-widgets/controls",
      "_model_module_version": "1.5.0",
      "_model_name": "DescriptionStyleModel",
      "_view_count": null,
      "_view_module": "@jupyter-widgets/base",
      "_view_module_version": "1.2.0",
      "_view_name": "StyleView",
      "description_width": ""
     }
    },
    "efa91f7945a344529c2f7a49624508d9": {
     "model_module": "@jupyter-widgets/base",
     "model_module_version": "1.2.0",
     "model_name": "LayoutModel",
     "state": {
      "_model_module": "@jupyter-widgets/base",
      "_model_module_version": "1.2.0",
      "_model_name": "LayoutModel",
      "_view_count": null,
      "_view_module": "@jupyter-widgets/base",
      "_view_module_version": "1.2.0",
      "_view_name": "LayoutView",
      "align_content": null,
      "align_items": null,
      "align_self": null,
      "border": null,
      "bottom": null,
      "display": null,
      "flex": null,
      "flex_flow": null,
      "grid_area": null,
      "grid_auto_columns": null,
      "grid_auto_flow": null,
      "grid_auto_rows": null,
      "grid_column": null,
      "grid_gap": null,
      "grid_row": null,
      "grid_template_areas": null,
      "grid_template_columns": null,
      "grid_template_rows": null,
      "height": null,
      "justify_content": null,
      "justify_items": null,
      "left": null,
      "margin": null,
      "max_height": null,
      "max_width": null,
      "min_height": null,
      "min_width": null,
      "object_fit": null,
      "object_position": null,
      "order": null,
      "overflow": null,
      "overflow_x": null,
      "overflow_y": null,
      "padding": null,
      "right": null,
      "top": null,
      "visibility": null,
      "width": null
     }
    },
    "f14e651b5d1b43ecb6ef01694fa1adb8": {
     "model_module": "@jupyter-widgets/base",
     "model_module_version": "1.2.0",
     "model_name": "LayoutModel",
     "state": {
      "_model_module": "@jupyter-widgets/base",
      "_model_module_version": "1.2.0",
      "_model_name": "LayoutModel",
      "_view_count": null,
      "_view_module": "@jupyter-widgets/base",
      "_view_module_version": "1.2.0",
      "_view_name": "LayoutView",
      "align_content": null,
      "align_items": null,
      "align_self": null,
      "border": null,
      "bottom": null,
      "display": null,
      "flex": null,
      "flex_flow": null,
      "grid_area": null,
      "grid_auto_columns": null,
      "grid_auto_flow": null,
      "grid_auto_rows": null,
      "grid_column": null,
      "grid_gap": null,
      "grid_row": null,
      "grid_template_areas": null,
      "grid_template_columns": null,
      "grid_template_rows": null,
      "height": null,
      "justify_content": null,
      "justify_items": null,
      "left": null,
      "margin": null,
      "max_height": null,
      "max_width": null,
      "min_height": null,
      "min_width": null,
      "object_fit": null,
      "object_position": null,
      "order": null,
      "overflow": null,
      "overflow_x": null,
      "overflow_y": null,
      "padding": null,
      "right": null,
      "top": null,
      "visibility": null,
      "width": null
     }
    },
    "f36981a09896426aa11821855b366223": {
     "model_module": "@jupyter-widgets/controls",
     "model_module_version": "1.5.0",
     "model_name": "HBoxModel",
     "state": {
      "_dom_classes": [],
      "_model_module": "@jupyter-widgets/controls",
      "_model_module_version": "1.5.0",
      "_model_name": "HBoxModel",
      "_view_count": null,
      "_view_module": "@jupyter-widgets/controls",
      "_view_module_version": "1.5.0",
      "_view_name": "HBoxView",
      "box_style": "",
      "children": [
       "IPY_MODEL_9427eb1477a74803bccbb2fbb8667449",
       "IPY_MODEL_94cd4844bef64170965cbec7fbeab079",
       "IPY_MODEL_c0e05b7e167b4dcb91928ddddf41ed97"
      ],
      "layout": "IPY_MODEL_96c547c4317b47b6a6dcd63496af3baf"
     }
    },
    "f91df6565d144e0eaca1441fa57862ae": {
     "model_module": "@jupyter-widgets/base",
     "model_module_version": "1.2.0",
     "model_name": "LayoutModel",
     "state": {
      "_model_module": "@jupyter-widgets/base",
      "_model_module_version": "1.2.0",
      "_model_name": "LayoutModel",
      "_view_count": null,
      "_view_module": "@jupyter-widgets/base",
      "_view_module_version": "1.2.0",
      "_view_name": "LayoutView",
      "align_content": null,
      "align_items": null,
      "align_self": null,
      "border": null,
      "bottom": null,
      "display": null,
      "flex": null,
      "flex_flow": null,
      "grid_area": null,
      "grid_auto_columns": null,
      "grid_auto_flow": null,
      "grid_auto_rows": null,
      "grid_column": null,
      "grid_gap": null,
      "grid_row": null,
      "grid_template_areas": null,
      "grid_template_columns": null,
      "grid_template_rows": null,
      "height": null,
      "justify_content": null,
      "justify_items": null,
      "left": null,
      "margin": null,
      "max_height": null,
      "max_width": null,
      "min_height": null,
      "min_width": null,
      "object_fit": null,
      "object_position": null,
      "order": null,
      "overflow": null,
      "overflow_x": null,
      "overflow_y": null,
      "padding": null,
      "right": null,
      "top": null,
      "visibility": null,
      "width": null
     }
    },
    "f9201edf425c4a4b89cfb4af724a653c": {
     "model_module": "@jupyter-widgets/base",
     "model_module_version": "1.2.0",
     "model_name": "LayoutModel",
     "state": {
      "_model_module": "@jupyter-widgets/base",
      "_model_module_version": "1.2.0",
      "_model_name": "LayoutModel",
      "_view_count": null,
      "_view_module": "@jupyter-widgets/base",
      "_view_module_version": "1.2.0",
      "_view_name": "LayoutView",
      "align_content": null,
      "align_items": null,
      "align_self": null,
      "border": null,
      "bottom": null,
      "display": null,
      "flex": null,
      "flex_flow": null,
      "grid_area": null,
      "grid_auto_columns": null,
      "grid_auto_flow": null,
      "grid_auto_rows": null,
      "grid_column": null,
      "grid_gap": null,
      "grid_row": null,
      "grid_template_areas": null,
      "grid_template_columns": null,
      "grid_template_rows": null,
      "height": null,
      "justify_content": null,
      "justify_items": null,
      "left": null,
      "margin": null,
      "max_height": null,
      "max_width": null,
      "min_height": null,
      "min_width": null,
      "object_fit": null,
      "object_position": null,
      "order": null,
      "overflow": null,
      "overflow_x": null,
      "overflow_y": null,
      "padding": null,
      "right": null,
      "top": null,
      "visibility": null,
      "width": null
     }
    },
    "f9d005346d5b4d8b8eb3dd97c01f0dc9": {
     "model_module": "@jupyter-widgets/base",
     "model_module_version": "1.2.0",
     "model_name": "LayoutModel",
     "state": {
      "_model_module": "@jupyter-widgets/base",
      "_model_module_version": "1.2.0",
      "_model_name": "LayoutModel",
      "_view_count": null,
      "_view_module": "@jupyter-widgets/base",
      "_view_module_version": "1.2.0",
      "_view_name": "LayoutView",
      "align_content": null,
      "align_items": null,
      "align_self": null,
      "border": null,
      "bottom": null,
      "display": null,
      "flex": null,
      "flex_flow": null,
      "grid_area": null,
      "grid_auto_columns": null,
      "grid_auto_flow": null,
      "grid_auto_rows": null,
      "grid_column": null,
      "grid_gap": null,
      "grid_row": null,
      "grid_template_areas": null,
      "grid_template_columns": null,
      "grid_template_rows": null,
      "height": null,
      "justify_content": null,
      "justify_items": null,
      "left": null,
      "margin": null,
      "max_height": null,
      "max_width": null,
      "min_height": null,
      "min_width": null,
      "object_fit": null,
      "object_position": null,
      "order": null,
      "overflow": null,
      "overflow_x": null,
      "overflow_y": null,
      "padding": null,
      "right": null,
      "top": null,
      "visibility": null,
      "width": null
     }
    },
    "fe3ef07fc2334c299474ee33df2331ba": {
     "model_module": "@jupyter-widgets/base",
     "model_module_version": "1.2.0",
     "model_name": "LayoutModel",
     "state": {
      "_model_module": "@jupyter-widgets/base",
      "_model_module_version": "1.2.0",
      "_model_name": "LayoutModel",
      "_view_count": null,
      "_view_module": "@jupyter-widgets/base",
      "_view_module_version": "1.2.0",
      "_view_name": "LayoutView",
      "align_content": null,
      "align_items": null,
      "align_self": null,
      "border": null,
      "bottom": null,
      "display": null,
      "flex": null,
      "flex_flow": null,
      "grid_area": null,
      "grid_auto_columns": null,
      "grid_auto_flow": null,
      "grid_auto_rows": null,
      "grid_column": null,
      "grid_gap": null,
      "grid_row": null,
      "grid_template_areas": null,
      "grid_template_columns": null,
      "grid_template_rows": null,
      "height": null,
      "justify_content": null,
      "justify_items": null,
      "left": null,
      "margin": null,
      "max_height": null,
      "max_width": null,
      "min_height": null,
      "min_width": null,
      "object_fit": null,
      "object_position": null,
      "order": null,
      "overflow": null,
      "overflow_x": null,
      "overflow_y": null,
      "padding": null,
      "right": null,
      "top": null,
      "visibility": null,
      "width": null
     }
    },
    "ff9cf361f41d41c498dd4cfb5a916cb4": {
     "model_module": "@jupyter-widgets/controls",
     "model_module_version": "1.5.0",
     "model_name": "DescriptionStyleModel",
     "state": {
      "_model_module": "@jupyter-widgets/controls",
      "_model_module_version": "1.5.0",
      "_model_name": "DescriptionStyleModel",
      "_view_count": null,
      "_view_module": "@jupyter-widgets/base",
      "_view_module_version": "1.2.0",
      "_view_name": "StyleView",
      "description_width": ""
     }
    }
   }
  }
 },
 "nbformat": 4,
 "nbformat_minor": 1
}
